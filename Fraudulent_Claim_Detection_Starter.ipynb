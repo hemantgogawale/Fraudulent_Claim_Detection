{
 "cells": [
  {
   "cell_type": "markdown",
   "metadata": {
    "id": "uJ6cv25EDPWV"
   },
   "source": [
    "## **Fraudulent Claim Detection**"
   ]
  },
  {
   "cell_type": "markdown",
   "metadata": {
    "id": "_rLrWLwZDPWW"
   },
   "source": [
    "## Problem Statement\n",
    "Global Insure, a leading insurance company, processes thousands of claims annually. However, a significant percentage of these claims turn out to be fraudulent, resulting in considerable financial losses. The company’s current process for identifying fraudulent claims involves manual inspections, which is time-consuming and inefficient. Fraudulent claims are often detected too late in the process, after the company has already paid out significant amounts. Global Insure wants to improve its fraud detection process using data-driven insights to classify claims as fraudulent or legitimate early in the approval process. This would minimise financial losses and optimise the overall claims handling process.\n",
    "\n",
    "## Business Objective\n",
    "Global Insure wants to build a model to classify insurance claims as either fraudulent or legitimate based on historical claim details and customer profiles. By using features like claim amounts, customer profiles and claim types, the company aims to predict which claims are likely to be fraudulent before they are approved.\n",
    "\n",
    "\n",
    "Based on this assignment, you have to answer the following questions:<br>\n",
    "\n",
    "● How can we analyse historical claim data to detect patterns that indicate fraudulent claims?<br>\n",
    "● Which features are most predictive of fraudulent behaviour?<br>\n",
    "● Can we predict the likelihood of fraud for an incoming claim, based on past data?<br>\n",
    "● What insights can be drawn from the model that can help in improving the fraud detection process?<br>"
   ]
  },
  {
   "cell_type": "markdown",
   "metadata": {
    "id": "dCp1H_XyDPWX"
   },
   "source": [
    "## Assignment Tasks\n",
    "You need to perform the following steps for successfully completing this assignment:\n",
    "1. Data Preparation\n",
    "2. Data Cleaning\n",
    "3. Train Validation Split 70-30\n",
    "4. EDA on Training Data\n",
    "5. EDA on Validation Data (optional)\n",
    "6. Feature Engineering\n",
    "7. Model Building\n",
    "8. Predicting and Model Evaluation"
   ]
  },
  {
   "cell_type": "markdown",
   "metadata": {
    "id": "PPnbScj6sHfw"
   },
   "source": [
    "## Data Dictionary\n",
    "The insurance claims data has 40 Columns and 1000 Rows. Following data dictionary provides the description for each column present in dataset:<br>\n",
    "\n",
    "<table>\n",
    "  <thead>\n",
    "    <tr>\n",
    "      <th>Column Name</th>\n",
    "      <th>Description</th>\n",
    "    </tr>\n",
    "  </thead>\n",
    "  <tbody>\n",
    "    <tr>\n",
    "      <td>months_as_customer</td>\n",
    "      <td>Represents the duration in months that a customer has been associated with the insurance company.</td>\n",
    "    </tr>\n",
    "    <tr>\n",
    "      <td>age</td>\n",
    "      <td>Represents the age of the insured person.</td>\n",
    "    </tr>\n",
    "    <tr>\n",
    "      <td>policy_number</td>\n",
    "      <td>Represents a unique identifier for each insurance policy.</td>\n",
    "    </tr>\n",
    "    <tr>\n",
    "      <td>policy_bind_date</td>\n",
    "      <td>Represents the date when the insurance policy was initiated.</td>\n",
    "    </tr>\n",
    "    <tr>\n",
    "      <td>policy_state</td>\n",
    "      <td>Represents the state where the insurance policy is applicable.</td>\n",
    "    </tr>\n",
    "    <tr>\n",
    "      <td>policy_csl</td>\n",
    "      <td>Represents the combined single limit for the insurance policy.</td>\n",
    "    </tr>\n",
    "    <tr>\n",
    "      <td>policy_deductable</td>\n",
    "      <td>Represents the amount that the insured person needs to pay before the insurance coverage kicks in.</td>\n",
    "    </tr>\n",
    "    <tr>\n",
    "      <td>policy_annual_premium</td>\n",
    "      <td>Represents the yearly cost of the insurance policy.</td>\n",
    "    </tr>\n",
    "    <tr>\n",
    "      <td>umbrella_limit</td>\n",
    "      <td>Represents an additional layer of liability coverage provided beyond the limits of the primary insurance policy.</td>\n",
    "    </tr>\n",
    "    <tr>\n",
    "      <td>insured_zip</td>\n",
    "      <td>Represents the zip code of the insured person.</td>\n",
    "    </tr>\n",
    "    <tr>\n",
    "      <td>insured_sex</td>\n",
    "      <td>Represents the gender of the insured person.</td>\n",
    "    </tr>\n",
    "    <tr>\n",
    "      <td>insured_education_level</td>\n",
    "      <td>Represents the highest educational qualification of the insured person.</td>\n",
    "    </tr>\n",
    "    <tr>\n",
    "      <td>insured_occupation</td>\n",
    "      <td>Represents the profession or job of the insured person.</td>\n",
    "    </tr>\n",
    "    <tr>\n",
    "      <td>insured_hobbies</td>\n",
    "      <td>Represents the hobbies or leisure activities of the insured person.</td>\n",
    "    </tr>\n",
    "    <tr>\n",
    "      <td>insured_relationship</td>\n",
    "      <td>Represents the relationship of the insured person to the policyholder.</td>\n",
    "    </tr>\n",
    "    <tr>\n",
    "      <td>capital-gains</td>\n",
    "      <td>Represents the profit earned from the sale of assets such as stocks, bonds, or real estate.</td>\n",
    "    </tr>\n",
    "    <tr>\n",
    "      <td>capital-loss</td>\n",
    "      <td>Represents the loss incurred from the sale of assets such as stocks, bonds, or real estate.</td>\n",
    "    </tr>\n",
    "    <tr>\n",
    "      <td>incident_date</td>\n",
    "      <td>Represents the date when the incident or accident occurred.</td>\n",
    "    </tr>\n",
    "    <tr>\n",
    "      <td>incident_type</td>\n",
    "      <td>Represents the category or type of incident that led to the claim.</td>\n",
    "    </tr>\n",
    "    <tr>\n",
    "      <td>collision_type</td>\n",
    "      <td>Represents the type of collision that occurred in an accident.</td>\n",
    "    </tr>\n",
    "    <tr>\n",
    "      <td>incident_severity</td>\n",
    "      <td>Represents the extent of damage or injury caused by the incident.</td>\n",
    "    </tr>\n",
    "    <tr>\n",
    "      <td>authorities_contacted</td>\n",
    "      <td>Represents the authorities or agencies that were contacted after the incident.</td>\n",
    "    </tr>\n",
    "    <tr>\n",
    "      <td>incident_state</td>\n",
    "      <td>Represents the state where the incident occurred.</td>\n",
    "    </tr>\n",
    "    <tr>\n",
    "      <td>incident_city</td>\n",
    "      <td>Represents the city where the incident occurred.</td>\n",
    "    </tr>\n",
    "    <tr>\n",
    "      <td>incident_location</td>\n",
    "      <td>Represents the specific location or address where the incident occurred.</td>\n",
    "    </tr>\n",
    "    <tr>\n",
    "      <td>incident_hour_of_the_day</td>\n",
    "      <td>Represents the hour of the day when the incident occurred.</td>\n",
    "    </tr>\n",
    "    <tr>\n",
    "      <td>number_of_vehicles_involved</td>\n",
    "      <td>Represents the total number of vehicles involved in the incident.</td>\n",
    "    </tr>\n",
    "    <tr>\n",
    "      <td>property_damage</td>\n",
    "      <td>Represents whether there was any damage to property in the incident.</td>\n",
    "    </tr>\n",
    "    <tr>\n",
    "      <td>bodily_injuries</td>\n",
    "      <td>Represents the number of bodily injuries resulting from the incident.</td>\n",
    "    </tr>\n",
    "    <tr>\n",
    "      <td>witnesses</td>\n",
    "      <td>Represents the number of witnesses present at the scene of the incident.</td>\n",
    "    </tr>\n",
    "    <tr>\n",
    "      <td>police_report_available</td>\n",
    "      <td>Represents whether a police report is available for the incident.</td>\n",
    "    </tr>\n",
    "    <tr>\n",
    "      <td>total_claim_amount</td>\n",
    "      <td>Represents the total amount claimed by the insured person for the incident.</td>\n",
    "    </tr>\n",
    "    <tr>\n",
    "      <td>injury_claim</td>\n",
    "      <td>Represents the amount claimed for injuries sustained in the incident.</td>\n",
    "    </tr>\n",
    "    <tr>\n",
    "      <td>property_claim</td>\n",
    "      <td>Represents the amount claimed for property damage in the incident.</td>\n",
    "    </tr>\n",
    "    <tr>\n",
    "      <td>vehicle_claim</td>\n",
    "      <td>Represents the amount claimed for vehicle damage in the incident.</td>\n",
    "    </tr>\n",
    "    <tr>\n",
    "      <td>auto_make</td>\n",
    "      <td>Represents the manufacturer of the insured vehicle.</td>\n",
    "    </tr>\n",
    "    <tr>\n",
    "      <td>auto_model</td>\n",
    "      <td>Represents the specific model of the insured vehicle.</td>\n",
    "    </tr>\n",
    "    <tr>\n",
    "      <td>auto_year</td>\n",
    "      <td>Represents the year of manufacture of the insured vehicle.</td>\n",
    "    </tr>\n",
    "    <tr>\n",
    "      <td>fraud_reported</td>\n",
    "      <td>Represents whether the claim was reported as fraudulent or not.</td>\n",
    "    </tr>\n",
    "    <tr>\n",
    "      <td>_c39</td>\n",
    "      <td>Represents an unknown or unspecified variable.</td>\n",
    "    </tr>\n",
    "  </tbody>\n",
    "</table>"
   ]
  },
  {
   "cell_type": "markdown",
   "metadata": {
    "id": "2Hfg3nHjDPWY"
   },
   "source": [
    "## **1. Data Preparation**\n",
    "In this step, read the dataset provided in CSV format and look at basic statistics of the data, including preview of data, dimension of data, column descriptions and data types."
   ]
  },
  {
   "cell_type": "markdown",
   "metadata": {
    "id": "2xZBs5L_DPWY"
   },
   "source": [
    "### **1.0 Import Libraries**"
   ]
  },
  {
   "cell_type": "code",
   "execution_count": 1,
   "metadata": {
    "id": "2xUZYP92DPWY"
   },
   "outputs": [],
   "source": [
    "# Supress unnecessary warnings\n",
    "import warnings\n",
    "warnings.filterwarnings(\"ignore\")"
   ]
  },
  {
   "cell_type": "code",
   "execution_count": 2,
   "metadata": {
    "id": "6glz5HkPDPWZ"
   },
   "outputs": [],
   "source": [
    "# Import necessary libraries\n",
    "import numpy as np\n",
    "import pandas as pd\n",
    "import seaborn as sns\n",
    "import matplotlib.pyplot as plt"
   ]
  },
  {
   "cell_type": "markdown",
   "metadata": {
    "id": "D8-RBUdWDPWZ"
   },
   "source": [
    "### **1.1 Load the Data**"
   ]
  },
  {
   "cell_type": "code",
   "execution_count": 99,
   "metadata": {
    "id": "kP0JaSjJDPWZ"
   },
   "outputs": [],
   "source": [
    "# Load the dataset\n",
    "data = pd.read_csv(\"insurance_claims.csv\")"
   ]
  },
  {
   "cell_type": "code",
   "execution_count": 69,
   "metadata": {
    "id": "qaR4TkqTDPWZ"
   },
   "outputs": [
    {
     "data": {
      "text/html": [
       "<div>\n",
       "<style scoped>\n",
       "    .dataframe tbody tr th:only-of-type {\n",
       "        vertical-align: middle;\n",
       "    }\n",
       "\n",
       "    .dataframe tbody tr th {\n",
       "        vertical-align: top;\n",
       "    }\n",
       "\n",
       "    .dataframe thead th {\n",
       "        text-align: right;\n",
       "    }\n",
       "</style>\n",
       "<table border=\"1\" class=\"dataframe\">\n",
       "  <thead>\n",
       "    <tr style=\"text-align: right;\">\n",
       "      <th></th>\n",
       "      <th>months_as_customer</th>\n",
       "      <th>age</th>\n",
       "      <th>policy_number</th>\n",
       "      <th>policy_bind_date</th>\n",
       "      <th>policy_state</th>\n",
       "      <th>policy_csl</th>\n",
       "      <th>policy_deductable</th>\n",
       "      <th>policy_annual_premium</th>\n",
       "      <th>umbrella_limit</th>\n",
       "      <th>insured_zip</th>\n",
       "      <th>...</th>\n",
       "      <th>police_report_available</th>\n",
       "      <th>total_claim_amount</th>\n",
       "      <th>injury_claim</th>\n",
       "      <th>property_claim</th>\n",
       "      <th>vehicle_claim</th>\n",
       "      <th>auto_make</th>\n",
       "      <th>auto_model</th>\n",
       "      <th>auto_year</th>\n",
       "      <th>fraud_reported</th>\n",
       "      <th>_c39</th>\n",
       "    </tr>\n",
       "  </thead>\n",
       "  <tbody>\n",
       "    <tr>\n",
       "      <th>0</th>\n",
       "      <td>328</td>\n",
       "      <td>48</td>\n",
       "      <td>521585</td>\n",
       "      <td>2014-10-17</td>\n",
       "      <td>OH</td>\n",
       "      <td>250/500</td>\n",
       "      <td>1000</td>\n",
       "      <td>1406.91</td>\n",
       "      <td>0</td>\n",
       "      <td>466132</td>\n",
       "      <td>...</td>\n",
       "      <td>YES</td>\n",
       "      <td>71610</td>\n",
       "      <td>6510</td>\n",
       "      <td>13020</td>\n",
       "      <td>52080</td>\n",
       "      <td>Saab</td>\n",
       "      <td>92x</td>\n",
       "      <td>2004</td>\n",
       "      <td>Y</td>\n",
       "      <td>NaN</td>\n",
       "    </tr>\n",
       "    <tr>\n",
       "      <th>1</th>\n",
       "      <td>228</td>\n",
       "      <td>42</td>\n",
       "      <td>342868</td>\n",
       "      <td>2006-06-27</td>\n",
       "      <td>IN</td>\n",
       "      <td>250/500</td>\n",
       "      <td>2000</td>\n",
       "      <td>1197.22</td>\n",
       "      <td>5000000</td>\n",
       "      <td>468176</td>\n",
       "      <td>...</td>\n",
       "      <td>?</td>\n",
       "      <td>5070</td>\n",
       "      <td>780</td>\n",
       "      <td>780</td>\n",
       "      <td>3510</td>\n",
       "      <td>Mercedes</td>\n",
       "      <td>E400</td>\n",
       "      <td>2007</td>\n",
       "      <td>Y</td>\n",
       "      <td>NaN</td>\n",
       "    </tr>\n",
       "    <tr>\n",
       "      <th>2</th>\n",
       "      <td>134</td>\n",
       "      <td>29</td>\n",
       "      <td>687698</td>\n",
       "      <td>2000-09-06</td>\n",
       "      <td>OH</td>\n",
       "      <td>100/300</td>\n",
       "      <td>2000</td>\n",
       "      <td>1413.14</td>\n",
       "      <td>5000000</td>\n",
       "      <td>430632</td>\n",
       "      <td>...</td>\n",
       "      <td>NO</td>\n",
       "      <td>34650</td>\n",
       "      <td>7700</td>\n",
       "      <td>3850</td>\n",
       "      <td>23100</td>\n",
       "      <td>Dodge</td>\n",
       "      <td>RAM</td>\n",
       "      <td>2007</td>\n",
       "      <td>N</td>\n",
       "      <td>NaN</td>\n",
       "    </tr>\n",
       "    <tr>\n",
       "      <th>3</th>\n",
       "      <td>256</td>\n",
       "      <td>41</td>\n",
       "      <td>227811</td>\n",
       "      <td>1990-05-25</td>\n",
       "      <td>IL</td>\n",
       "      <td>250/500</td>\n",
       "      <td>2000</td>\n",
       "      <td>1415.74</td>\n",
       "      <td>6000000</td>\n",
       "      <td>608117</td>\n",
       "      <td>...</td>\n",
       "      <td>NO</td>\n",
       "      <td>63400</td>\n",
       "      <td>6340</td>\n",
       "      <td>6340</td>\n",
       "      <td>50720</td>\n",
       "      <td>Chevrolet</td>\n",
       "      <td>Tahoe</td>\n",
       "      <td>2014</td>\n",
       "      <td>Y</td>\n",
       "      <td>NaN</td>\n",
       "    </tr>\n",
       "    <tr>\n",
       "      <th>4</th>\n",
       "      <td>228</td>\n",
       "      <td>44</td>\n",
       "      <td>367455</td>\n",
       "      <td>2014-06-06</td>\n",
       "      <td>IL</td>\n",
       "      <td>500/1000</td>\n",
       "      <td>1000</td>\n",
       "      <td>1583.91</td>\n",
       "      <td>6000000</td>\n",
       "      <td>610706</td>\n",
       "      <td>...</td>\n",
       "      <td>NO</td>\n",
       "      <td>6500</td>\n",
       "      <td>1300</td>\n",
       "      <td>650</td>\n",
       "      <td>4550</td>\n",
       "      <td>Accura</td>\n",
       "      <td>RSX</td>\n",
       "      <td>2009</td>\n",
       "      <td>N</td>\n",
       "      <td>NaN</td>\n",
       "    </tr>\n",
       "  </tbody>\n",
       "</table>\n",
       "<p>5 rows × 40 columns</p>\n",
       "</div>"
      ],
      "text/plain": [
       "   months_as_customer  age  policy_number policy_bind_date policy_state  \\\n",
       "0                 328   48         521585       2014-10-17           OH   \n",
       "1                 228   42         342868       2006-06-27           IN   \n",
       "2                 134   29         687698       2000-09-06           OH   \n",
       "3                 256   41         227811       1990-05-25           IL   \n",
       "4                 228   44         367455       2014-06-06           IL   \n",
       "\n",
       "  policy_csl  policy_deductable  policy_annual_premium  umbrella_limit  \\\n",
       "0    250/500               1000                1406.91               0   \n",
       "1    250/500               2000                1197.22         5000000   \n",
       "2    100/300               2000                1413.14         5000000   \n",
       "3    250/500               2000                1415.74         6000000   \n",
       "4   500/1000               1000                1583.91         6000000   \n",
       "\n",
       "   insured_zip  ... police_report_available total_claim_amount injury_claim  \\\n",
       "0       466132  ...                     YES              71610         6510   \n",
       "1       468176  ...                       ?               5070          780   \n",
       "2       430632  ...                      NO              34650         7700   \n",
       "3       608117  ...                      NO              63400         6340   \n",
       "4       610706  ...                      NO               6500         1300   \n",
       "\n",
       "  property_claim vehicle_claim  auto_make  auto_model auto_year  \\\n",
       "0          13020         52080       Saab         92x      2004   \n",
       "1            780          3510   Mercedes        E400      2007   \n",
       "2           3850         23100      Dodge         RAM      2007   \n",
       "3           6340         50720  Chevrolet       Tahoe      2014   \n",
       "4            650          4550     Accura         RSX      2009   \n",
       "\n",
       "  fraud_reported _c39  \n",
       "0              Y  NaN  \n",
       "1              Y  NaN  \n",
       "2              N  NaN  \n",
       "3              Y  NaN  \n",
       "4              N  NaN  \n",
       "\n",
       "[5 rows x 40 columns]"
      ]
     },
     "execution_count": 69,
     "metadata": {},
     "output_type": "execute_result"
    }
   ],
   "source": [
    "# Check at the first few entries\n",
    "data.head()"
   ]
  },
  {
   "cell_type": "code",
   "execution_count": 46,
   "metadata": {
    "id": "TK9_lipzDPWa"
   },
   "outputs": [
    {
     "data": {
      "text/plain": [
       "(1000, 40)"
      ]
     },
     "execution_count": 46,
     "metadata": {},
     "output_type": "execute_result"
    }
   ],
   "source": [
    "# Inspect the shape of the dataset\n",
    "data.shape"
   ]
  },
  {
   "cell_type": "code",
   "execution_count": 47,
   "metadata": {
    "id": "Fd0PADNIuqov"
   },
   "outputs": [
    {
     "name": "stdout",
     "output_type": "stream",
     "text": [
      "<class 'pandas.core.frame.DataFrame'>\n",
      "RangeIndex: 1000 entries, 0 to 999\n",
      "Data columns (total 40 columns):\n",
      " #   Column                       Non-Null Count  Dtype  \n",
      "---  ------                       --------------  -----  \n",
      " 0   months_as_customer           1000 non-null   int64  \n",
      " 1   age                          1000 non-null   int64  \n",
      " 2   policy_number                1000 non-null   int64  \n",
      " 3   policy_bind_date             1000 non-null   object \n",
      " 4   policy_state                 1000 non-null   object \n",
      " 5   policy_csl                   1000 non-null   object \n",
      " 6   policy_deductable            1000 non-null   int64  \n",
      " 7   policy_annual_premium        1000 non-null   float64\n",
      " 8   umbrella_limit               1000 non-null   int64  \n",
      " 9   insured_zip                  1000 non-null   int64  \n",
      " 10  insured_sex                  1000 non-null   object \n",
      " 11  insured_education_level      1000 non-null   object \n",
      " 12  insured_occupation           1000 non-null   object \n",
      " 13  insured_hobbies              1000 non-null   object \n",
      " 14  insured_relationship         1000 non-null   object \n",
      " 15  capital-gains                1000 non-null   int64  \n",
      " 16  capital-loss                 1000 non-null   int64  \n",
      " 17  incident_date                1000 non-null   object \n",
      " 18  incident_type                1000 non-null   object \n",
      " 19  collision_type               1000 non-null   object \n",
      " 20  incident_severity            1000 non-null   object \n",
      " 21  authorities_contacted        909 non-null    object \n",
      " 22  incident_state               1000 non-null   object \n",
      " 23  incident_city                1000 non-null   object \n",
      " 24  incident_location            1000 non-null   object \n",
      " 25  incident_hour_of_the_day     1000 non-null   int64  \n",
      " 26  number_of_vehicles_involved  1000 non-null   int64  \n",
      " 27  property_damage              1000 non-null   object \n",
      " 28  bodily_injuries              1000 non-null   int64  \n",
      " 29  witnesses                    1000 non-null   int64  \n",
      " 30  police_report_available      1000 non-null   object \n",
      " 31  total_claim_amount           1000 non-null   int64  \n",
      " 32  injury_claim                 1000 non-null   int64  \n",
      " 33  property_claim               1000 non-null   int64  \n",
      " 34  vehicle_claim                1000 non-null   int64  \n",
      " 35  auto_make                    1000 non-null   object \n",
      " 36  auto_model                   1000 non-null   object \n",
      " 37  auto_year                    1000 non-null   int64  \n",
      " 38  fraud_reported               1000 non-null   object \n",
      " 39  _c39                         0 non-null      float64\n",
      "dtypes: float64(2), int64(17), object(21)\n",
      "memory usage: 312.6+ KB\n"
     ]
    }
   ],
   "source": [
    "# Inspect the features in the dataset\n",
    "data.info()"
   ]
  },
  {
   "cell_type": "markdown",
   "metadata": {
    "id": "YRijmf2EDPWa"
   },
   "source": [
    "## **2. Data Cleaning** <font color = red>[10 marks]</font>"
   ]
  },
  {
   "cell_type": "markdown",
   "metadata": {
    "id": "DxXOACINDPWa"
   },
   "source": [
    "### **2.1 Handle null values** <font color = red>[2 marks]</font>"
   ]
  },
  {
   "cell_type": "markdown",
   "metadata": {
    "id": "kJDjZSkmDPWa"
   },
   "source": [
    "#### **2.1.1** Examine the columns to determine if any value or column needs to be treated <font color=\"red\">[1 Mark]</font>"
   ]
  },
  {
   "cell_type": "code",
   "execution_count": 7,
   "metadata": {
    "id": "3B4OtvQlDPWa"
   },
   "outputs": [
    {
     "data": {
      "text/plain": [
       "months_as_customer             0.00000\n",
       "age                            0.00000\n",
       "policy_number                  0.00000\n",
       "policy_bind_date               0.00000\n",
       "policy_state                   0.00000\n",
       "policy_csl                     0.00000\n",
       "policy_deductable              0.00000\n",
       "policy_annual_premium          0.00000\n",
       "umbrella_limit                 0.00000\n",
       "insured_zip                    0.00000\n",
       "insured_sex                    0.00000\n",
       "insured_education_level        0.00000\n",
       "insured_occupation             0.00000\n",
       "insured_hobbies                0.00000\n",
       "insured_relationship           0.00000\n",
       "capital-gains                  0.00000\n",
       "capital-loss                   0.00000\n",
       "incident_date                  0.00000\n",
       "incident_type                  0.00000\n",
       "collision_type                 0.00000\n",
       "incident_severity              0.00000\n",
       "authorities_contacted          0.10011\n",
       "incident_state                 0.00000\n",
       "incident_city                  0.00000\n",
       "incident_location              0.00000\n",
       "incident_hour_of_the_day       0.00000\n",
       "number_of_vehicles_involved    0.00000\n",
       "property_damage                0.00000\n",
       "bodily_injuries                0.00000\n",
       "witnesses                      0.00000\n",
       "police_report_available        0.00000\n",
       "total_claim_amount             0.00000\n",
       "injury_claim                   0.00000\n",
       "property_claim                 0.00000\n",
       "vehicle_claim                  0.00000\n",
       "auto_make                      0.00000\n",
       "auto_model                     0.00000\n",
       "auto_year                      0.00000\n",
       "fraud_reported                 0.00000\n",
       "_c39                               inf\n",
       "dtype: float64"
      ]
     },
     "execution_count": 7,
     "metadata": {},
     "output_type": "execute_result"
    }
   ],
   "source": [
    "# Check the number of missing values in each column\n",
    "data.isnull().sum()/data.count()"
   ]
  },
  {
   "cell_type": "markdown",
   "metadata": {
    "id": "AE6K2iqkDPWb"
   },
   "source": [
    "#### **2.1.2** Handle rows containing null values <font color=\"red\">[1 Mark]</font>"
   ]
  },
  {
   "cell_type": "code",
   "execution_count": 100,
   "metadata": {
    "id": "88PX2r5hDPWb"
   },
   "outputs": [
    {
     "data": {
      "text/plain": [
       "months_as_customer             0.0\n",
       "age                            0.0\n",
       "policy_number                  0.0\n",
       "policy_bind_date               0.0\n",
       "policy_state                   0.0\n",
       "policy_csl                     0.0\n",
       "policy_deductable              0.0\n",
       "policy_annual_premium          0.0\n",
       "umbrella_limit                 0.0\n",
       "insured_zip                    0.0\n",
       "insured_sex                    0.0\n",
       "insured_education_level        0.0\n",
       "insured_occupation             0.0\n",
       "insured_hobbies                0.0\n",
       "insured_relationship           0.0\n",
       "capital-gains                  0.0\n",
       "capital-loss                   0.0\n",
       "incident_date                  0.0\n",
       "incident_type                  0.0\n",
       "collision_type                 0.0\n",
       "incident_severity              0.0\n",
       "authorities_contacted          0.0\n",
       "incident_state                 0.0\n",
       "incident_city                  0.0\n",
       "incident_location              0.0\n",
       "incident_hour_of_the_day       0.0\n",
       "number_of_vehicles_involved    0.0\n",
       "property_damage                0.0\n",
       "bodily_injuries                0.0\n",
       "witnesses                      0.0\n",
       "police_report_available        0.0\n",
       "total_claim_amount             0.0\n",
       "injury_claim                   0.0\n",
       "property_claim                 0.0\n",
       "vehicle_claim                  0.0\n",
       "auto_make                      0.0\n",
       "auto_model                     0.0\n",
       "auto_year                      0.0\n",
       "fraud_reported                 0.0\n",
       "_c39                           inf\n",
       "dtype: float64"
      ]
     },
     "execution_count": 100,
     "metadata": {},
     "output_type": "execute_result"
    }
   ],
   "source": [
    "# Handle the rows containing null values\n",
    "    # Entire _c39 column is null and can be remove from data set.\n",
    "    # 0.1% of values are null in the authorities_contacted column and it can be removed from data.\n",
    "    \n",
    "### remove null from authorities_contacted\n",
    "data = data[~data['authorities_contacted'].isnull()]\n",
    "data.isnull().sum()/data.count()"
   ]
  },
  {
   "cell_type": "markdown",
   "metadata": {
    "id": "202JyqOjDPWb"
   },
   "source": [
    "### **2.2 Identify and handle redundant values and columns** <font color = red>[5 marks]</font>"
   ]
  },
  {
   "cell_type": "markdown",
   "metadata": {
    "id": "fSh2wYZoDPWb"
   },
   "source": [
    "#### **2.2.1** Examine the columns to determine if any value or column needs to be treated <font color=\"red\">[2 Mark]</font>"
   ]
  },
  {
   "cell_type": "code",
   "execution_count": 9,
   "metadata": {
    "id": "1x0Cn8BiDPWb"
   },
   "outputs": [
    {
     "name": "stdout",
     "output_type": "stream",
     "text": [
      "----------- Unique values of months_as_customer -----------\n",
      "months_as_customer\n",
      "230    7\n",
      "254    7\n",
      "285    7\n",
      "128    7\n",
      "259    6\n",
      "      ..\n",
      "434    1\n",
      "438    1\n",
      "447    1\n",
      "448    1\n",
      "451    1\n",
      "Name: count, Length: 384, dtype: int64\n",
      "------------------------------------------------------------------------------------------\n",
      "----------- Unique values of age -----------\n",
      "age\n",
      "43    45\n",
      "39    43\n",
      "41    43\n",
      "38    40\n",
      "37    39\n",
      "30    38\n",
      "34    36\n",
      "32    36\n",
      "31    35\n",
      "33    35\n",
      "40    34\n",
      "29    32\n",
      "46    31\n",
      "42    30\n",
      "44    29\n",
      "36    29\n",
      "28    28\n",
      "35    26\n",
      "26    25\n",
      "45    24\n",
      "48    23\n",
      "47    22\n",
      "27    21\n",
      "57    14\n",
      "53    13\n",
      "50    13\n",
      "25    12\n",
      "55    12\n",
      "61    10\n",
      "54    10\n",
      "49     9\n",
      "60     9\n",
      "51     8\n",
      "56     8\n",
      "58     8\n",
      "24     8\n",
      "23     7\n",
      "21     6\n",
      "59     4\n",
      "62     4\n",
      "52     4\n",
      "64     2\n",
      "20     1\n",
      "19     1\n",
      "22     1\n",
      "63     1\n",
      "Name: count, dtype: int64\n",
      "------------------------------------------------------------------------------------------\n",
      "----------- Unique values of policy_number -----------\n",
      "policy_number\n",
      "999435    1\n",
      "100804    1\n",
      "101421    1\n",
      "104594    1\n",
      "106186    1\n",
      "         ..\n",
      "115399    1\n",
      "114839    1\n",
      "113516    1\n",
      "113464    1\n",
      "111874    1\n",
      "Name: count, Length: 909, dtype: int64\n",
      "------------------------------------------------------------------------------------------\n",
      "----------- Unique values of policy_bind_date -----------\n",
      "policy_bind_date\n",
      "1992-04-28    3\n",
      "1992-08-05    3\n",
      "2006-01-01    3\n",
      "2010-03-11    2\n",
      "2010-01-28    2\n",
      "             ..\n",
      "2014-12-13    1\n",
      "2014-12-28    1\n",
      "2015-01-03    1\n",
      "2015-01-17    1\n",
      "1990-05-16    1\n",
      "Name: count, Length: 865, dtype: int64\n",
      "------------------------------------------------------------------------------------------\n",
      "----------- Unique values of policy_state -----------\n",
      "policy_state\n",
      "OH    319\n",
      "IL    310\n",
      "IN    280\n",
      "Name: count, dtype: int64\n",
      "------------------------------------------------------------------------------------------\n",
      "----------- Unique values of policy_csl -----------\n",
      "policy_csl\n",
      "100/300     326\n",
      "250/500     316\n",
      "500/1000    267\n",
      "Name: count, dtype: int64\n",
      "------------------------------------------------------------------------------------------\n",
      "----------- Unique values of policy_deductable -----------\n",
      "policy_deductable\n",
      "1000    317\n",
      "500     315\n",
      "2000    277\n",
      "Name: count, dtype: int64\n",
      "------------------------------------------------------------------------------------------\n",
      "----------- Unique values of policy_annual_premium -----------\n",
      "policy_annual_premium\n",
      "1558.29    2\n",
      "1524.45    2\n",
      "1374.22    2\n",
      "1362.87    2\n",
      "1281.25    2\n",
      "          ..\n",
      "1922.84    1\n",
      "1927.87    1\n",
      "1935.85    1\n",
      "1969.63    1\n",
      "1712.68    1\n",
      "Name: count, Length: 903, dtype: int64\n",
      "------------------------------------------------------------------------------------------\n",
      "----------- Unique values of umbrella_limit -----------\n",
      "umbrella_limit\n",
      " 0           726\n",
      " 6000000      50\n",
      " 5000000      43\n",
      " 4000000      37\n",
      " 7000000      24\n",
      " 3000000      11\n",
      " 8000000       8\n",
      " 9000000       4\n",
      " 2000000       3\n",
      " 10000000      2\n",
      "-1000000       1\n",
      "Name: count, dtype: int64\n",
      "------------------------------------------------------------------------------------------\n",
      "----------- Unique values of insured_zip -----------\n",
      "insured_zip\n",
      "477695    2\n",
      "469429    2\n",
      "456602    2\n",
      "446895    2\n",
      "431202    2\n",
      "         ..\n",
      "620507    1\n",
      "620737    1\n",
      "620819    1\n",
      "620869    1\n",
      "431532    1\n",
      "Name: count, Length: 904, dtype: int64\n",
      "------------------------------------------------------------------------------------------\n",
      "----------- Unique values of insured_sex -----------\n",
      "insured_sex\n",
      "FEMALE    494\n",
      "MALE      415\n",
      "Name: count, dtype: int64\n",
      "------------------------------------------------------------------------------------------\n",
      "----------- Unique values of insured_education_level -----------\n",
      "insured_education_level\n",
      "High School    146\n",
      "JD             145\n",
      "MD             132\n",
      "Masters        130\n",
      "Associate      129\n",
      "PhD            115\n",
      "College        112\n",
      "Name: count, dtype: int64\n",
      "------------------------------------------------------------------------------------------\n",
      "----------- Unique values of insured_occupation -----------\n",
      "insured_occupation\n",
      "machine-op-inspct    87\n",
      "prof-specialty       77\n",
      "tech-support         71\n",
      "sales                70\n",
      "craft-repair         70\n",
      "exec-managerial      68\n",
      "transport-moving     67\n",
      "priv-house-serv      66\n",
      "other-service        61\n",
      "armed-forces         59\n",
      "protective-serv      58\n",
      "adm-clerical         54\n",
      "handlers-cleaners    53\n",
      "farming-fishing      48\n",
      "Name: count, dtype: int64\n",
      "------------------------------------------------------------------------------------------\n",
      "----------- Unique values of insured_hobbies -----------\n",
      "insured_hobbies\n",
      "reading           58\n",
      "exercise          54\n",
      "bungie-jumping    52\n",
      "hiking            50\n",
      "movies            50\n",
      "camping           50\n",
      "yachting          49\n",
      "paintball         49\n",
      "skydiving         47\n",
      "golf              47\n",
      "kayaking          46\n",
      "base-jumping      43\n",
      "chess             43\n",
      "board-games       43\n",
      "video-games       43\n",
      "polo              42\n",
      "dancing           40\n",
      "sleeping          38\n",
      "cross-fit         34\n",
      "basketball        31\n",
      "Name: count, dtype: int64\n",
      "------------------------------------------------------------------------------------------\n",
      "----------- Unique values of insured_relationship -----------\n",
      "insured_relationship\n",
      "own-child         165\n",
      "other-relative    164\n",
      "not-in-family     156\n",
      "husband           156\n",
      "wife              139\n",
      "unmarried         129\n",
      "Name: count, dtype: int64\n",
      "------------------------------------------------------------------------------------------\n",
      "----------- Unique values of capital-gains -----------\n",
      "capital-gains\n",
      "0         466\n",
      "46300       5\n",
      "51500       4\n",
      "75800       3\n",
      "63600       3\n",
      "         ... \n",
      "88800       1\n",
      "90700       1\n",
      "91900       1\n",
      "94800       1\n",
      "100500      1\n",
      "Name: count, Length: 312, dtype: int64\n",
      "------------------------------------------------------------------------------------------\n",
      "----------- Unique values of capital-loss -----------\n",
      "capital-loss\n",
      " 0         432\n",
      "-50300       5\n",
      "-31700       4\n",
      "-51000       4\n",
      "-53800       4\n",
      "          ... \n",
      "-22400       1\n",
      "-8500        1\n",
      "-6300        1\n",
      "-5700        1\n",
      "-111100      1\n",
      "Name: count, Length: 341, dtype: int64\n",
      "------------------------------------------------------------------------------------------\n",
      "----------- Unique values of incident_date -----------\n",
      "incident_date\n",
      "2015-02-02    25\n",
      "2015-01-07    24\n",
      "2015-02-04    23\n",
      "2015-01-10    23\n",
      "2015-02-17    23\n",
      "2015-01-08    21\n",
      "2015-01-24    21\n",
      "2015-01-19    20\n",
      "2015-01-30    20\n",
      "2015-01-14    19\n",
      "2015-02-06    19\n",
      "2015-02-12    19\n",
      "2015-01-31    18\n",
      "2015-02-14    18\n",
      "2015-01-13    18\n",
      "2015-01-12    18\n",
      "2015-02-23    18\n",
      "2015-02-08    17\n",
      "2015-02-22    17\n",
      "2015-02-01    17\n",
      "2015-01-09    17\n",
      "2015-01-21    17\n",
      "2015-02-15    16\n",
      "2015-02-21    16\n",
      "2015-01-01    16\n",
      "2015-01-20    16\n",
      "2015-01-03    16\n",
      "2015-01-06    16\n",
      "2015-02-25    16\n",
      "2015-02-28    16\n",
      "2015-02-24    15\n",
      "2015-02-13    15\n",
      "2015-01-16    15\n",
      "2015-01-18    15\n",
      "2015-02-18    14\n",
      "2015-02-26    14\n",
      "2015-02-05    14\n",
      "2015-02-16    14\n",
      "2015-01-15    13\n",
      "2015-01-17    13\n",
      "2015-01-23    13\n",
      "2015-01-22    13\n",
      "2015-02-20    13\n",
      "2015-01-28    13\n",
      "2015-03-01    12\n",
      "2015-02-27    12\n",
      "2015-01-27    12\n",
      "2015-02-09    11\n",
      "2015-02-03    11\n",
      "2015-01-04    11\n",
      "2015-01-26    10\n",
      "2015-01-25    10\n",
      "2015-01-29    10\n",
      "2015-02-07     9\n",
      "2015-01-02     9\n",
      "2015-01-11     9\n",
      "2015-02-11     9\n",
      "2015-02-19     8\n",
      "2015-02-10     7\n",
      "2015-01-05     5\n",
      "Name: count, dtype: int64\n",
      "------------------------------------------------------------------------------------------\n",
      "----------- Unique values of incident_type -----------\n",
      "incident_type\n",
      "Multi-vehicle Collision     419\n",
      "Single Vehicle Collision    403\n",
      "Vehicle Theft                53\n",
      "Parked Car                   34\n",
      "Name: count, dtype: int64\n",
      "------------------------------------------------------------------------------------------\n",
      "----------- Unique values of collision_type -----------\n",
      "collision_type\n",
      "Rear Collision     292\n",
      "Side Collision     276\n",
      "Front Collision    254\n",
      "?                   87\n",
      "Name: count, dtype: int64\n",
      "------------------------------------------------------------------------------------------\n",
      "----------- Unique values of incident_severity -----------\n",
      "incident_severity\n",
      "Minor Damage      304\n",
      "Total Loss        280\n",
      "Major Damage      276\n",
      "Trivial Damage     49\n",
      "Name: count, dtype: int64\n",
      "------------------------------------------------------------------------------------------\n",
      "----------- Unique values of authorities_contacted -----------\n",
      "authorities_contacted\n",
      "Police       292\n",
      "Fire         223\n",
      "Other        198\n",
      "Ambulance    196\n",
      "Name: count, dtype: int64\n",
      "------------------------------------------------------------------------------------------\n",
      "----------- Unique values of incident_state -----------\n",
      "incident_state\n",
      "NY    246\n",
      "SC    225\n",
      "WV    196\n",
      "NC     97\n",
      "VA     96\n",
      "PA     29\n",
      "OH     20\n",
      "Name: count, dtype: int64\n",
      "------------------------------------------------------------------------------------------\n",
      "----------- Unique values of incident_city -----------\n",
      "incident_city\n",
      "Springfield    145\n",
      "Columbus       141\n",
      "Northbend      133\n",
      "Arlington      129\n",
      "Hillsdale      128\n",
      "Riverwood      121\n",
      "Northbrook     112\n",
      "Name: count, dtype: int64\n",
      "------------------------------------------------------------------------------------------\n",
      "----------- Unique values of incident_location -----------\n",
      "incident_location\n",
      "9980 Lincoln Ave    1\n",
      "1012 5th Lane       1\n",
      "1028 Sky Lane       1\n",
      "1030 Pine Lane      1\n",
      "1087 Flute Drive    1\n",
      "                   ..\n",
      "1220 MLK Ave        1\n",
      "1218 Sky Hwy        1\n",
      "1215 Pine Hwy       1\n",
      "1213 4th Lane       1\n",
      "1186 Rock St        1\n",
      "Name: count, Length: 909, dtype: int64\n",
      "------------------------------------------------------------------------------------------\n",
      "----------- Unique values of incident_hour_of_the_day -----------\n",
      "incident_hour_of_the_day\n",
      "17    51\n",
      "23    51\n",
      "0     49\n",
      "16    47\n",
      "14    42\n",
      "21    42\n",
      "13    42\n",
      "3     40\n",
      "18    40\n",
      "12    40\n",
      "10    40\n",
      "19    39\n",
      "22    38\n",
      "4     38\n",
      "15    38\n",
      "9     34\n",
      "6     33\n",
      "7     33\n",
      "20    32\n",
      "2     30\n",
      "11    30\n",
      "1     27\n",
      "8     27\n",
      "5     26\n",
      "Name: count, dtype: int64\n",
      "------------------------------------------------------------------------------------------\n",
      "----------- Unique values of number_of_vehicles_involved -----------\n",
      "number_of_vehicles_involved\n",
      "1    490\n",
      "3    358\n",
      "4     31\n",
      "2     30\n",
      "Name: count, dtype: int64\n",
      "------------------------------------------------------------------------------------------\n",
      "----------- Unique values of property_damage -----------\n",
      "property_damage\n",
      "?      329\n",
      "NO     304\n",
      "YES    276\n",
      "Name: count, dtype: int64\n",
      "------------------------------------------------------------------------------------------\n",
      "----------- Unique values of bodily_injuries -----------\n",
      "bodily_injuries\n",
      "2    309\n",
      "0    307\n",
      "1    293\n",
      "Name: count, dtype: int64\n",
      "------------------------------------------------------------------------------------------\n",
      "----------- Unique values of witnesses -----------\n",
      "witnesses\n",
      "2    234\n",
      "0    230\n",
      "1    228\n",
      "3    217\n",
      "Name: count, dtype: int64\n",
      "------------------------------------------------------------------------------------------\n",
      "----------- Unique values of police_report_available -----------\n",
      "police_report_available\n",
      "?      316\n",
      "NO     307\n",
      "YES    286\n",
      "Name: count, dtype: int64\n",
      "------------------------------------------------------------------------------------------\n",
      "----------- Unique values of total_claim_amount -----------\n",
      "total_claim_amount\n",
      "59400    5\n",
      "70290    4\n",
      "75400    4\n",
      "70400    4\n",
      "60600    4\n",
      "        ..\n",
      "95810    1\n",
      "95900    1\n",
      "98160    1\n",
      "98280    1\n",
      "3440     1\n",
      "Name: count, Length: 719, dtype: int64\n",
      "------------------------------------------------------------------------------------------\n",
      "----------- Unique values of injury_claim -----------\n",
      "injury_claim\n",
      "0        24\n",
      "13520     5\n",
      "6340      5\n",
      "5540      5\n",
      "7420      4\n",
      "         ..\n",
      "15700     1\n",
      "21450     1\n",
      "17300     1\n",
      "870       1\n",
      "810       1\n",
      "Name: count, Length: 616, dtype: int64\n",
      "------------------------------------------------------------------------------------------\n",
      "----------- Unique values of property_claim -----------\n",
      "property_claim\n",
      "0        18\n",
      "10000     5\n",
      "11080     5\n",
      "13860     4\n",
      "11100     4\n",
      "         ..\n",
      "490       1\n",
      "450       1\n",
      "440       1\n",
      "430       1\n",
      "420       1\n",
      "Name: count, Length: 603, dtype: int64\n",
      "------------------------------------------------------------------------------------------\n",
      "----------- Unique values of vehicle_claim -----------\n",
      "vehicle_claim\n",
      "33600    5\n",
      "52080    5\n",
      "44800    5\n",
      "35000    4\n",
      "46800    4\n",
      "        ..\n",
      "76000    1\n",
      "76400    1\n",
      "70       1\n",
      "77760    1\n",
      "79560    1\n",
      "Name: count, Length: 691, dtype: int64\n",
      "------------------------------------------------------------------------------------------\n",
      "----------- Unique values of auto_make -----------\n",
      "auto_make\n",
      "Suburu        74\n",
      "Dodge         72\n",
      "Saab          72\n",
      "Nissan        69\n",
      "Ford          67\n",
      "BMW           67\n",
      "Chevrolet     66\n",
      "Audi          63\n",
      "Accura        63\n",
      "Jeep          62\n",
      "Toyota        62\n",
      "Volkswagen    62\n",
      "Mercedes      60\n",
      "Honda         50\n",
      "Name: count, dtype: int64\n",
      "------------------------------------------------------------------------------------------\n",
      "----------- Unique values of auto_model -----------\n",
      "auto_model\n",
      "RAM               40\n",
      "Wrangler          38\n",
      "A3                33\n",
      "MDX               33\n",
      "Jetta             33\n",
      "Neon              32\n",
      "A5                30\n",
      "Legacy            30\n",
      "Passat            29\n",
      "Pathfinder        27\n",
      "Forrestor         26\n",
      "95                25\n",
      "Malibu            25\n",
      "F150              25\n",
      "Camry             25\n",
      "E400              24\n",
      "Grand Cherokee    24\n",
      "92x               24\n",
      "93                23\n",
      "Maxima            23\n",
      "Escape            23\n",
      "Tahoe             22\n",
      "X5                20\n",
      "Highlander        20\n",
      "CRV               19\n",
      "TL                19\n",
      "Ultima            19\n",
      "Fusion            19\n",
      "Silverado         19\n",
      "C300              18\n",
      "3 Series          18\n",
      "Civic             18\n",
      "ML350             18\n",
      "Impreza           18\n",
      "Corolla           17\n",
      "X6                16\n",
      "Accord            13\n",
      "M5                13\n",
      "RSX               11\n",
      "Name: count, dtype: int64\n",
      "------------------------------------------------------------------------------------------\n",
      "----------- Unique values of auto_year -----------\n",
      "auto_year\n",
      "1995    52\n",
      "2005    51\n",
      "2006    51\n",
      "1999    50\n",
      "2007    48\n",
      "2010    47\n",
      "2011    47\n",
      "2009    47\n",
      "2003    46\n",
      "2013    43\n",
      "2012    43\n",
      "1997    42\n",
      "2008    42\n",
      "2015    42\n",
      "2002    41\n",
      "2014    40\n",
      "2000    38\n",
      "2004    36\n",
      "1996    35\n",
      "1998    35\n",
      "2001    33\n",
      "Name: count, dtype: int64\n",
      "------------------------------------------------------------------------------------------\n",
      "----------- Unique values of fraud_reported -----------\n",
      "fraud_reported\n",
      "N    668\n",
      "Y    241\n",
      "Name: count, dtype: int64\n",
      "------------------------------------------------------------------------------------------\n",
      "----------- Unique values of _c39 -----------\n",
      "Series([], Name: count, dtype: int64)\n",
      "------------------------------------------------------------------------------------------\n"
     ]
    }
   ],
   "source": [
    "# Write code to display all the columns with their unique values and counts and check for redundant values\n",
    "columns = data.columns\n",
    "\n",
    "for column in columns:\n",
    "    print(f\"----------- Unique values of {column} -----------\")\n",
    "    print(data.value_counts(column))\n",
    "    print(\"---\"*30)"
   ]
  },
  {
   "cell_type": "markdown",
   "metadata": {
    "id": "RRIhr3ZwDPWb"
   },
   "source": [
    "#### **2.2.2** Identify and drop any columns that are completely empty <font color=\"red\">[1 Mark]</font>"
   ]
  },
  {
   "cell_type": "code",
   "execution_count": 101,
   "metadata": {
    "id": "9vLZf8ExDPWb"
   },
   "outputs": [
    {
     "data": {
      "text/plain": [
       "months_as_customer             0.0\n",
       "age                            0.0\n",
       "policy_number                  0.0\n",
       "policy_bind_date               0.0\n",
       "policy_state                   0.0\n",
       "policy_csl                     0.0\n",
       "policy_deductable              0.0\n",
       "policy_annual_premium          0.0\n",
       "umbrella_limit                 0.0\n",
       "insured_zip                    0.0\n",
       "insured_sex                    0.0\n",
       "insured_education_level        0.0\n",
       "insured_occupation             0.0\n",
       "insured_hobbies                0.0\n",
       "insured_relationship           0.0\n",
       "capital-gains                  0.0\n",
       "capital-loss                   0.0\n",
       "incident_date                  0.0\n",
       "incident_type                  0.0\n",
       "collision_type                 0.0\n",
       "incident_severity              0.0\n",
       "authorities_contacted          0.0\n",
       "incident_state                 0.0\n",
       "incident_city                  0.0\n",
       "incident_location              0.0\n",
       "incident_hour_of_the_day       0.0\n",
       "number_of_vehicles_involved    0.0\n",
       "property_damage                0.0\n",
       "bodily_injuries                0.0\n",
       "witnesses                      0.0\n",
       "police_report_available        0.0\n",
       "total_claim_amount             0.0\n",
       "injury_claim                   0.0\n",
       "property_claim                 0.0\n",
       "vehicle_claim                  0.0\n",
       "auto_make                      0.0\n",
       "auto_model                     0.0\n",
       "auto_year                      0.0\n",
       "fraud_reported                 0.0\n",
       "dtype: float64"
      ]
     },
     "execution_count": 101,
     "metadata": {},
     "output_type": "execute_result"
    }
   ],
   "source": [
    "# Identify and drop any columns that are completely empty\n",
    "data = data.drop(\"_c39\",axis=1)\n",
    "data.isnull().sum()/data.count()"
   ]
  },
  {
   "cell_type": "markdown",
   "metadata": {
    "id": "1Cx8douODPWd"
   },
   "source": [
    "#### **2.2.3** Identify and drop rows where features have illogical or invalid values, such as negative values for features that should only have positive values <font color=\"red\">[1 Mark]</font>"
   ]
  },
  {
   "cell_type": "code",
   "execution_count": 102,
   "metadata": {
    "id": "U5oARc23DPWd"
   },
   "outputs": [
    {
     "name": "stdout",
     "output_type": "stream",
     "text": [
      "months_as_customer:  0\n",
      "age:  0\n",
      "policy_number:  0\n",
      "policy_deductable:  0\n",
      "umbrella_limit:  0\n",
      "insured_zip:  0\n",
      "capital-gains:  0\n",
      "capital-loss:  174\n",
      "incident_hour_of_the_day:  0\n",
      "number_of_vehicles_involved:  0\n",
      "bodily_injuries:  0\n",
      "witnesses:  0\n",
      "total_claim_amount:  0\n",
      "injury_claim:  0\n",
      "property_claim:  0\n",
      "vehicle_claim:  0\n",
      "auto_year:  0\n"
     ]
    }
   ],
   "source": [
    "# Identify and drop rows where features have illogical or invalid values, such as negative values for features that should only have positive values\n",
    "\n",
    "### collision_type, property_damage, police_report_available has illogical value '?'\n",
    "data = data[data['collision_type'] != '?']\n",
    "data = data[data['property_damage'] != '?']\n",
    "data = data[data['police_report_available'] != '?']\n",
    "\n",
    "# # Find out the features containing -ve values.\n",
    "int_columns = data.select_dtypes(include='int').columns\n",
    "for col in int_columns:\n",
    "    print(col +': ', (data[col] < 0).sum())\n",
    "    \n",
    "# # 'capital-loss' contains -ve values\n",
    "data = data[data['capital-loss'] < 0]\n"
   ]
  },
  {
   "cell_type": "markdown",
   "metadata": {
    "id": "XTGMKeeNDPWd"
   },
   "source": [
    "#### **2.2.4** Identify and remove columns where a large proportion of the values are unique or near-unique, as these columns are likely to be identifiers or have very limited predictive power <font color=\"red\">[1 Mark]</font>"
   ]
  },
  {
   "cell_type": "code",
   "execution_count": 103,
   "metadata": {
    "id": "U4LXO65UDPWd"
   },
   "outputs": [],
   "source": [
    "# Identify and remove columns that are likely to be identifiers or have very limited predictive power\n",
    "# Unique or large portion of unique value columns - \n",
    "\n",
    "### Below columns are unique or near unique values -\n",
    "### vehicle_claim, property_claim, injury_claim, total_claim_amount, incident_location, capital-loss, capital-gains, insured_zip, policy_annual_premium, policy_number, months_as_customer\n",
    "\n",
    "drop_columns = ['vehicle_claim', 'property_claim', 'injury_claim', 'total_claim_amount', 'incident_location', 'capital-loss', 'capital-gains', 'insured_zip', 'policy_annual_premium', 'policy_number', 'months_as_customer']\n",
    "data = data.drop(drop_columns, axis= 1)\n"
   ]
  },
  {
   "cell_type": "code",
   "execution_count": 104,
   "metadata": {
    "id": "KzHx2BzPDPWd"
   },
   "outputs": [
    {
     "name": "stdout",
     "output_type": "stream",
     "text": [
      "(174, 28)\n"
     ]
    },
    {
     "data": {
      "text/html": [
       "<div>\n",
       "<style scoped>\n",
       "    .dataframe tbody tr th:only-of-type {\n",
       "        vertical-align: middle;\n",
       "    }\n",
       "\n",
       "    .dataframe tbody tr th {\n",
       "        vertical-align: top;\n",
       "    }\n",
       "\n",
       "    .dataframe thead th {\n",
       "        text-align: right;\n",
       "    }\n",
       "</style>\n",
       "<table border=\"1\" class=\"dataframe\">\n",
       "  <thead>\n",
       "    <tr style=\"text-align: right;\">\n",
       "      <th></th>\n",
       "      <th>age</th>\n",
       "      <th>policy_bind_date</th>\n",
       "      <th>policy_state</th>\n",
       "      <th>policy_csl</th>\n",
       "      <th>policy_deductable</th>\n",
       "      <th>umbrella_limit</th>\n",
       "      <th>insured_sex</th>\n",
       "      <th>insured_education_level</th>\n",
       "      <th>insured_occupation</th>\n",
       "      <th>insured_hobbies</th>\n",
       "      <th>...</th>\n",
       "      <th>incident_hour_of_the_day</th>\n",
       "      <th>number_of_vehicles_involved</th>\n",
       "      <th>property_damage</th>\n",
       "      <th>bodily_injuries</th>\n",
       "      <th>witnesses</th>\n",
       "      <th>police_report_available</th>\n",
       "      <th>auto_make</th>\n",
       "      <th>auto_model</th>\n",
       "      <th>auto_year</th>\n",
       "      <th>fraud_reported</th>\n",
       "    </tr>\n",
       "  </thead>\n",
       "  <tbody>\n",
       "    <tr>\n",
       "      <th>11</th>\n",
       "      <td>61</td>\n",
       "      <td>1999-05-29</td>\n",
       "      <td>OH</td>\n",
       "      <td>100/300</td>\n",
       "      <td>2000</td>\n",
       "      <td>0</td>\n",
       "      <td>FEMALE</td>\n",
       "      <td>High School</td>\n",
       "      <td>exec-managerial</td>\n",
       "      <td>skydiving</td>\n",
       "      <td>...</td>\n",
       "      <td>21</td>\n",
       "      <td>3</td>\n",
       "      <td>YES</td>\n",
       "      <td>1</td>\n",
       "      <td>2</td>\n",
       "      <td>YES</td>\n",
       "      <td>Audi</td>\n",
       "      <td>A3</td>\n",
       "      <td>2006</td>\n",
       "      <td>N</td>\n",
       "    </tr>\n",
       "    <tr>\n",
       "      <th>14</th>\n",
       "      <td>38</td>\n",
       "      <td>1998-12-28</td>\n",
       "      <td>OH</td>\n",
       "      <td>250/500</td>\n",
       "      <td>2000</td>\n",
       "      <td>0</td>\n",
       "      <td>FEMALE</td>\n",
       "      <td>College</td>\n",
       "      <td>machine-op-inspct</td>\n",
       "      <td>board-games</td>\n",
       "      <td>...</td>\n",
       "      <td>12</td>\n",
       "      <td>1</td>\n",
       "      <td>NO</td>\n",
       "      <td>0</td>\n",
       "      <td>2</td>\n",
       "      <td>YES</td>\n",
       "      <td>Dodge</td>\n",
       "      <td>Neon</td>\n",
       "      <td>2003</td>\n",
       "      <td>Y</td>\n",
       "    </tr>\n",
       "    <tr>\n",
       "      <th>18</th>\n",
       "      <td>37</td>\n",
       "      <td>2014-12-28</td>\n",
       "      <td>OH</td>\n",
       "      <td>500/1000</td>\n",
       "      <td>500</td>\n",
       "      <td>0</td>\n",
       "      <td>FEMALE</td>\n",
       "      <td>MD</td>\n",
       "      <td>craft-repair</td>\n",
       "      <td>yachting</td>\n",
       "      <td>...</td>\n",
       "      <td>19</td>\n",
       "      <td>1</td>\n",
       "      <td>YES</td>\n",
       "      <td>1</td>\n",
       "      <td>0</td>\n",
       "      <td>NO</td>\n",
       "      <td>Accura</td>\n",
       "      <td>TL</td>\n",
       "      <td>2015</td>\n",
       "      <td>N</td>\n",
       "    </tr>\n",
       "    <tr>\n",
       "      <th>22</th>\n",
       "      <td>55</td>\n",
       "      <td>1994-05-27</td>\n",
       "      <td>IL</td>\n",
       "      <td>100/300</td>\n",
       "      <td>2000</td>\n",
       "      <td>0</td>\n",
       "      <td>MALE</td>\n",
       "      <td>High School</td>\n",
       "      <td>prof-specialty</td>\n",
       "      <td>paintball</td>\n",
       "      <td>...</td>\n",
       "      <td>20</td>\n",
       "      <td>3</td>\n",
       "      <td>NO</td>\n",
       "      <td>0</td>\n",
       "      <td>0</td>\n",
       "      <td>YES</td>\n",
       "      <td>Suburu</td>\n",
       "      <td>Forrestor</td>\n",
       "      <td>2000</td>\n",
       "      <td>Y</td>\n",
       "    </tr>\n",
       "    <tr>\n",
       "      <th>24</th>\n",
       "      <td>40</td>\n",
       "      <td>1996-02-02</td>\n",
       "      <td>IN</td>\n",
       "      <td>100/300</td>\n",
       "      <td>1000</td>\n",
       "      <td>0</td>\n",
       "      <td>MALE</td>\n",
       "      <td>College</td>\n",
       "      <td>craft-repair</td>\n",
       "      <td>kayaking</td>\n",
       "      <td>...</td>\n",
       "      <td>6</td>\n",
       "      <td>1</td>\n",
       "      <td>NO</td>\n",
       "      <td>1</td>\n",
       "      <td>3</td>\n",
       "      <td>NO</td>\n",
       "      <td>Ford</td>\n",
       "      <td>Escape</td>\n",
       "      <td>2005</td>\n",
       "      <td>N</td>\n",
       "    </tr>\n",
       "  </tbody>\n",
       "</table>\n",
       "<p>5 rows × 28 columns</p>\n",
       "</div>"
      ],
      "text/plain": [
       "    age policy_bind_date policy_state policy_csl  policy_deductable  \\\n",
       "11   61       1999-05-29           OH    100/300               2000   \n",
       "14   38       1998-12-28           OH    250/500               2000   \n",
       "18   37       2014-12-28           OH   500/1000                500   \n",
       "22   55       1994-05-27           IL    100/300               2000   \n",
       "24   40       1996-02-02           IN    100/300               1000   \n",
       "\n",
       "    umbrella_limit insured_sex insured_education_level insured_occupation  \\\n",
       "11               0      FEMALE             High School    exec-managerial   \n",
       "14               0      FEMALE                 College  machine-op-inspct   \n",
       "18               0      FEMALE                      MD       craft-repair   \n",
       "22               0        MALE             High School     prof-specialty   \n",
       "24               0        MALE                 College       craft-repair   \n",
       "\n",
       "   insured_hobbies  ... incident_hour_of_the_day number_of_vehicles_involved  \\\n",
       "11       skydiving  ...                       21                           3   \n",
       "14     board-games  ...                       12                           1   \n",
       "18        yachting  ...                       19                           1   \n",
       "22       paintball  ...                       20                           3   \n",
       "24        kayaking  ...                        6                           1   \n",
       "\n",
       "   property_damage bodily_injuries witnesses police_report_available  \\\n",
       "11             YES               1         2                     YES   \n",
       "14              NO               0         2                     YES   \n",
       "18             YES               1         0                      NO   \n",
       "22              NO               0         0                     YES   \n",
       "24              NO               1         3                      NO   \n",
       "\n",
       "   auto_make auto_model  auto_year  fraud_reported  \n",
       "11      Audi         A3       2006               N  \n",
       "14     Dodge       Neon       2003               Y  \n",
       "18    Accura         TL       2015               N  \n",
       "22    Suburu  Forrestor       2000               Y  \n",
       "24      Ford     Escape       2005               N  \n",
       "\n",
       "[5 rows x 28 columns]"
      ]
     },
     "execution_count": 104,
     "metadata": {},
     "output_type": "execute_result"
    }
   ],
   "source": [
    "# Check the dataset\n",
    "print(data.shape)\n",
    "data.head()"
   ]
  },
  {
   "cell_type": "markdown",
   "metadata": {
    "id": "nAvSdxKBDPWe"
   },
   "source": [
    "### **2.3 Fix Data Types** <font color = red>[3 marks]</font>\n",
    "Carefully examine the dataset and identify columns that contain date or time information but are not stored as the appropriate data type. Convert these columns to the correct datetime data type to enable proper analysis and manipulation of temporal information."
   ]
  },
  {
   "cell_type": "code",
   "execution_count": null,
   "metadata": {
    "id": "WIycvsINDPWe"
   },
   "outputs": [],
   "source": [
    "# Fix the data types of the columns with incorrect data types\n",
    "\n",
    "### Check incident_hour_of_the_day, policy_bind_date, incident_date = object\n",
    "### incident_hour_of_the_day = int\n",
    "from pandas import to_datetime\n",
    "\n",
    "date_time_columns = ['incident_hour_of_the_day', 'policy_bind_date', 'incident_date']\n",
    "\n",
    "for col in date_time_columns:\n",
    "    data[col] = pd.to_datetime(data[col], errors='coerce')"
   ]
  },
  {
   "cell_type": "code",
   "execution_count": 115,
   "metadata": {
    "id": "kl0jWZNEDPWe"
   },
   "outputs": [
    {
     "name": "stdout",
     "output_type": "stream",
     "text": [
      "<class 'pandas.core.frame.DataFrame'>\n",
      "Index: 174 entries, 11 to 991\n",
      "Data columns (total 28 columns):\n",
      " #   Column                       Non-Null Count  Dtype         \n",
      "---  ------                       --------------  -----         \n",
      " 0   age                          174 non-null    int64         \n",
      " 1   policy_bind_date             174 non-null    datetime64[ns]\n",
      " 2   policy_state                 174 non-null    object        \n",
      " 3   policy_csl                   174 non-null    object        \n",
      " 4   policy_deductable            174 non-null    int64         \n",
      " 5   umbrella_limit               174 non-null    int64         \n",
      " 6   insured_sex                  174 non-null    object        \n",
      " 7   insured_education_level      174 non-null    object        \n",
      " 8   insured_occupation           174 non-null    object        \n",
      " 9   insured_hobbies              174 non-null    object        \n",
      " 10  insured_relationship         174 non-null    object        \n",
      " 11  incident_date                174 non-null    datetime64[ns]\n",
      " 12  incident_type                174 non-null    object        \n",
      " 13  collision_type               174 non-null    object        \n",
      " 14  incident_severity            174 non-null    object        \n",
      " 15  authorities_contacted        174 non-null    object        \n",
      " 16  incident_state               174 non-null    object        \n",
      " 17  incident_city                174 non-null    object        \n",
      " 18  incident_hour_of_the_day     174 non-null    datetime64[ns]\n",
      " 19  number_of_vehicles_involved  174 non-null    int64         \n",
      " 20  property_damage              174 non-null    object        \n",
      " 21  bodily_injuries              174 non-null    int64         \n",
      " 22  witnesses                    174 non-null    int64         \n",
      " 23  police_report_available      174 non-null    object        \n",
      " 24  auto_make                    174 non-null    object        \n",
      " 25  auto_model                   174 non-null    object        \n",
      " 26  auto_year                    174 non-null    int64         \n",
      " 27  fraud_reported               174 non-null    object        \n",
      "dtypes: datetime64[ns](3), int64(7), object(18)\n",
      "memory usage: 39.4+ KB\n"
     ]
    }
   ],
   "source": [
    "# Check the features of the data again\n",
    "data.info()"
   ]
  },
  {
   "cell_type": "markdown",
   "metadata": {
    "id": "nXS8rflQDPWe"
   },
   "source": [
    "## **3. Train-Validation Split** <font color = red>[5 marks]</font>"
   ]
  },
  {
   "cell_type": "markdown",
   "metadata": {
    "id": "9qOELXFYDPWe"
   },
   "source": [
    "### **3.1 Import required libraries**  "
   ]
  },
  {
   "cell_type": "code",
   "execution_count": 116,
   "metadata": {
    "id": "-vJKP7g0DPWe"
   },
   "outputs": [],
   "source": [
    "# Import train-test-split\n",
    "from sklearn.model_selection import train_test_split"
   ]
  },
  {
   "cell_type": "markdown",
   "metadata": {
    "id": "-MdKqcZ-DPWe"
   },
   "source": [
    "### **3.2 Define feature and target variables** <font color = red>[2 Marks]</font>"
   ]
  },
  {
   "cell_type": "code",
   "execution_count": 119,
   "metadata": {
    "id": "qacdKTt1DPWj"
   },
   "outputs": [
    {
     "data": {
      "text/plain": [
       "11    N\n",
       "14    Y\n",
       "18    N\n",
       "22    Y\n",
       "24    N\n",
       "Name: fraud_reported, dtype: object"
      ]
     },
     "execution_count": 119,
     "metadata": {},
     "output_type": "execute_result"
    }
   ],
   "source": [
    "# Put all the feature variables in X\n",
    "\n",
    "X = data.drop('fraud_reported', axis=1)\n",
    "X.head()\n",
    "\n",
    "# Put the target variable in y\n",
    "y = data['fraud_reported']\n",
    "y.head()"
   ]
  },
  {
   "cell_type": "markdown",
   "metadata": {
    "id": "t2JaDNlsDPWj"
   },
   "source": [
    "### **3.3 Split the data** <font color=\"red\">[3 Marks]</font>"
   ]
  },
  {
   "cell_type": "code",
   "execution_count": null,
   "metadata": {
    "id": "7_mMlbt7DPWj"
   },
   "outputs": [
    {
     "name": "stdout",
     "output_type": "stream",
     "text": [
      "fraud_reported\n",
      "N    90\n",
      "Y    31\n",
      "Name: count, dtype: int64\n",
      "fraud_reported\n",
      "N    39\n",
      "Y    14\n",
      "Name: count, dtype: int64\n"
     ]
    },
    {
     "data": {
      "text/html": [
       "<div>\n",
       "<style scoped>\n",
       "    .dataframe tbody tr th:only-of-type {\n",
       "        vertical-align: middle;\n",
       "    }\n",
       "\n",
       "    .dataframe tbody tr th {\n",
       "        vertical-align: top;\n",
       "    }\n",
       "\n",
       "    .dataframe thead th {\n",
       "        text-align: right;\n",
       "    }\n",
       "</style>\n",
       "<table border=\"1\" class=\"dataframe\">\n",
       "  <thead>\n",
       "    <tr style=\"text-align: right;\">\n",
       "      <th></th>\n",
       "      <th>fraud_reported</th>\n",
       "      <th>proportion</th>\n",
       "    </tr>\n",
       "  </thead>\n",
       "  <tbody>\n",
       "    <tr>\n",
       "      <th>0</th>\n",
       "      <td>N</td>\n",
       "      <td>0.735849</td>\n",
       "    </tr>\n",
       "    <tr>\n",
       "      <th>1</th>\n",
       "      <td>Y</td>\n",
       "      <td>0.264151</td>\n",
       "    </tr>\n",
       "  </tbody>\n",
       "</table>\n",
       "</div>"
      ],
      "text/plain": [
       "  fraud_reported  proportion\n",
       "0              N    0.735849\n",
       "1              Y    0.264151"
      ]
     },
     "execution_count": 121,
     "metadata": {},
     "output_type": "execute_result"
    }
   ],
   "source": [
    "# Split the dataset into 70% train and 30% validation and use stratification on the target variable\n",
    "\n",
    "X_train, X_test, y_train, y_test = train_test_split(X, y, train_size=0.7, test_size=0.3, random_state= 42, stratify= y)\n",
    "\n",
    "# Reset index for all train and test sets\n",
    "print(y_train.value_counts())\n",
    "y_train.value_counts(normalize = True).reset_index()\n",
    "\n",
    "print(y_test.value_counts())\n",
    "y_test.value_counts(normalize= True).reset_index()"
   ]
  },
  {
   "cell_type": "markdown",
   "metadata": {
    "id": "4E_xpebIDPWk"
   },
   "source": [
    "## **4. EDA on training data** <font color = red>[20 marks]</font>"
   ]
  },
  {
   "cell_type": "markdown",
   "metadata": {
    "id": "xDNn7iBADPWk"
   },
   "source": [
    "### **4.1 Perform univariate analysis** <font color = red>[5 marks]</font>"
   ]
  },
  {
   "cell_type": "markdown",
   "metadata": {
    "id": "aVLeqhcADPWk"
   },
   "source": [
    "#### **4.1.1** Identify and select numerical columns from training data for univariate analysis <font color = \"red\">[1 Mark]</font>"
   ]
  },
  {
   "cell_type": "code",
   "execution_count": 122,
   "metadata": {
    "id": "bR9ulzRsDPWk"
   },
   "outputs": [],
   "source": [
    "# Select numerical columns\n",
    "num_columns = X_train.select_dtypes(include=int)"
   ]
  },
  {
   "cell_type": "markdown",
   "metadata": {
    "id": "wP4icMhPDPWk"
   },
   "source": [
    "#### **4.1.2** Visualise the distribution of selected numerical features using appropriate plots to understand their characteristics <font color = \"red\">[4 Marks]</font>"
   ]
  },
  {
   "cell_type": "code",
   "execution_count": 131,
   "metadata": {
    "id": "ny7woMrmDPWk"
   },
   "outputs": [
    {
     "data": {
      "image/png": "[encoded data removed]",
      "text/plain": [
       "<Figure size 800x600 with 1 Axes>"
      ]
     },
     "metadata": {},
     "output_type": "display_data"
    },
    {
     "data": {
      "image/png": "[encoded data removed]",
      "text/plain": [
       "<Figure size 640x480 with 1 Axes>"
      ]
     },
     "metadata": {},
     "output_type": "display_data"
    },
    {
     "data": {
      "image/png": "[encoded data removed]",
      "text/plain": [
       "<Figure size 640x480 with 1 Axes>"
      ]
     },
     "metadata": {},
     "output_type": "display_data"
    },
    {
     "data": {
      "image/png": "[encoded data removed]",
      "text/plain": [
       "<Figure size 640x480 with 1 Axes>"
      ]
     },
     "metadata": {},
     "output_type": "display_data"
    },
    {
     "data": {
      "image/png": "[encoded data removed]",
      "text/plain": [
       "<Figure size 640x480 with 1 Axes>"
      ]
     },
     "metadata": {},
     "output_type": "display_data"
    },
    {
     "data": {
      "image/png": "[encoded data removed]",
      "text/plain": [
       "<Figure size 640x480 with 1 Axes>"
      ]
     },
     "metadata": {},
     "output_type": "display_data"
    },
    {
     "data": {
      "image/png": "[encoded data removed]",
      "text/plain": [
       "<Figure size 640x480 with 1 Axes>"
      ]
     },
     "metadata": {},
     "output_type": "display_data"
    },
    {
     "data": {
      "image/png": "[encoded data removed]",
      "text/plain": [
       "<Figure size 640x480 with 1 Axes>"
      ]
     },
     "metadata": {},
     "output_type": "display_data"
    },
    {
     "data": {
      "image/png": "[encoded data removed]",
      "text/plain": [
       "<Figure size 640x480 with 1 Axes>"
      ]
     },
     "metadata": {},
     "output_type": "display_data"
    },
    {
     "data": {
      "image/png": "[encoded data removed]",
      "text/plain": [
       "<Figure size 640x480 with 1 Axes>"
      ]
     },
     "metadata": {},
     "output_type": "display_data"
    },
    {
     "data": {
      "image/png": "[encoded data removed]",
      "text/plain": [
       "<Figure size 640x480 with 1 Axes>"
      ]
     },
     "metadata": {},
     "output_type": "display_data"
    },
    {
     "data": {
      "image/png": "[encoded data removed]",
      "text/plain": [
       "<Figure size 640x480 with 1 Axes>"
      ]
     },
     "metadata": {},
     "output_type": "display_data"
    },
    {
     "data": {
      "image/png": "[encoded data removed]",
      "text/plain": [
       "<Figure size 640x480 with 1 Axes>"
      ]
     },
     "metadata": {},
     "output_type": "display_data"
    },
    {
     "data": {
      "image/png": "[encoded data removed]",
      "text/plain": [
       "<Figure size 640x480 with 1 Axes>"
      ]
     },
     "metadata": {},
     "output_type": "display_data"
    }
   ],
   "source": [
    "# Plot all the numerical columns to understand their distribution\n",
    "plt.figure(figsize=(8,6))\n",
    "for col in num_columns:\n",
    "    sns.boxplot(data=X_train[col])\n",
    "    plt.show()\n",
    "    \n",
    "for col in num_columns:\n",
    "    sns.histplot(x=X_train[col])\n",
    "    plt.show()"
   ]
  },
  {
   "cell_type": "markdown",
   "metadata": {
    "id": "o4UAw5pDDPWl"
   },
   "source": [
    "### **4.2 Perform correlation analysis** <font color=\"red\">[3 Marks]</font>"
   ]
  },
  {
   "cell_type": "markdown",
   "metadata": {
    "id": "ySJiTDdxDPWl"
   },
   "source": [
    " Investigate the relationships between numerical features to identify potential multicollinearity or dependencies. Visualise the correlation structure using an appropriate method to gain insights into feature relationships."
   ]
  },
  {
   "cell_type": "code",
   "execution_count": 137,
   "metadata": {
    "id": "_xadGQK7DPWl"
   },
   "outputs": [
    {
     "data": {
      "image/png": "[encoded data removed]",
      "text/plain": [
       "<Figure size 2000x2000 with 2 Axes>"
      ]
     },
     "metadata": {},
     "output_type": "display_data"
    }
   ],
   "source": [
    "# Create correlation matrix for numerical columns\n",
    "num_columns1 = ['age', 'policy_deductable', 'umbrella_limit', 'number_of_vehicles_involved', 'bodily_injuries', 'witnesses', 'auto_year']\n",
    "num_col_cor = X_train[num_columns1].corr()\n",
    "\n",
    "# Plot Heatmap of the correlation matrix\n",
    "plt.figure(figsize=(20, 20))\n",
    "sns.heatmap(data= num_col_cor, cbar=True, square= True, fmt='.2f', annot=True, annot_kws={'size':15}, cmap='Greens')\n",
    "plt.show()"
   ]
  },
  {
   "cell_type": "markdown",
   "metadata": {
    "id": "ZHQ3du-9DPWl"
   },
   "source": [
    "### **4.3 Check class balance** <font color=\"red\">[2 Marks]</font>"
   ]
  },
  {
   "cell_type": "markdown",
   "metadata": {
    "id": "eTkJHl0xDPWm"
   },
   "source": [
    "Examine the distribution of the target variable to identify potential class imbalances using visualisation for better understanding."
   ]
  },
  {
   "cell_type": "code",
   "execution_count": 52,
   "metadata": {
    "id": "V1QrXZdhDPWm"
   },
   "outputs": [],
   "source": [
    "# Plot a bar chart to check class balance\n"
   ]
  },
  {
   "cell_type": "markdown",
   "metadata": {
    "id": "xFhVKzRHDPWn"
   },
   "source": [
    "### **4.4 Perform bivariate analysis** <font color=\"red\">[10 Marks]</font>"
   ]
  },
  {
   "cell_type": "markdown",
   "metadata": {
    "id": "h0WjamQXDPWn"
   },
   "source": [
    "#### **4.4.1** Target likelihood analysis for categorical variables. <font color=\"red\">[5 Marks]</font>\n",
    "Investigate the relationships between categorical features and the target variable by analysing the target event likelihood (for the `'Y'` event) for each level of every relevant categorical feature. Through this analysis, identify categorical features that do not contribute much in explaining the variation in the target variable."
   ]
  },
  {
   "cell_type": "code",
   "execution_count": 53,
   "metadata": {
    "id": "K1OQJrO5guyw"
   },
   "outputs": [],
   "source": [
    "# Write a function to calculate and analyse the target variable likelihood for categorical features\n"
   ]
  },
  {
   "cell_type": "markdown",
   "metadata": {
    "id": "z6oeg9naDPWo"
   },
   "source": [
    "#### **4.4.2** Explore the relationships between numerical features and the target variable to understand their impact on the target outcome using appropriate visualisation techniques to identify trends and potential interactions. <font color=\"red\">[5 Marks]</font>"
   ]
  },
  {
   "cell_type": "code",
   "execution_count": 54,
   "metadata": {
    "id": "bVXoNozGDPWo"
   },
   "outputs": [],
   "source": [
    "# Visualise the relationship between numerical features and the target variable to understand their impact on the target outcome\n"
   ]
  },
  {
   "cell_type": "markdown",
   "metadata": {
    "id": "OVV4m9OiDPWo"
   },
   "source": [
    "## **5. EDA on validation data** <font color = red>[OPTIONAL]</font>"
   ]
  },
  {
   "cell_type": "markdown",
   "metadata": {
    "id": "hvF11y45DPWo"
   },
   "source": [
    "### **5.1 Perform univariate analysis**"
   ]
  },
  {
   "cell_type": "markdown",
   "metadata": {
    "id": "krLtfiOBDPWo"
   },
   "source": [
    "#### **5.1.1** Identify and select numerical columns from training data for univariate analysis."
   ]
  },
  {
   "cell_type": "code",
   "execution_count": 55,
   "metadata": {
    "id": "RURn5Dp1DPWo"
   },
   "outputs": [],
   "source": [
    "# Select numerical columns\n"
   ]
  },
  {
   "cell_type": "markdown",
   "metadata": {
    "id": "a41PWZrNDPWp"
   },
   "source": [
    "#### **5.1.2** Visualise the distribution of selected numerical features using appropriate plots to understand their characteristics."
   ]
  },
  {
   "cell_type": "code",
   "execution_count": 56,
   "metadata": {
    "id": "DUoPrry8DPWp"
   },
   "outputs": [],
   "source": [
    "# Plot all the numerical columns to understand their distribution\n"
   ]
  },
  {
   "cell_type": "markdown",
   "metadata": {
    "id": "OhvTVXiwDPWp"
   },
   "source": [
    "### **5.2 Perform correlation analysis**"
   ]
  },
  {
   "cell_type": "markdown",
   "metadata": {
    "id": "F5tDAjsNDPWp"
   },
   "source": [
    " Investigate the relationships between numerical features to identify potential multicollinearity or dependencies. Visualise the correlation structure using an appropriate method to gain insights into feature relationships."
   ]
  },
  {
   "cell_type": "code",
   "execution_count": 57,
   "metadata": {
    "id": "C-b6CSy1DPWp"
   },
   "outputs": [],
   "source": [
    "# Create correlation matrix for numerical columns\n",
    "\n",
    "# Plot Heatmap of the correlation matrix\n"
   ]
  },
  {
   "cell_type": "markdown",
   "metadata": {
    "id": "N2ww_JH7DPWp"
   },
   "source": [
    "### **5.3 Check class balance**"
   ]
  },
  {
   "cell_type": "markdown",
   "metadata": {
    "id": "ddcn-VSADPWp"
   },
   "source": [
    "Examine the distribution of the target variable to identify potential class imbalances. Visualise the distribution for better understanding."
   ]
  },
  {
   "cell_type": "code",
   "execution_count": 58,
   "metadata": {
    "id": "5Yvfw9F2DPWq"
   },
   "outputs": [],
   "source": [
    "# Plot a bar chart to check class balance\n"
   ]
  },
  {
   "cell_type": "markdown",
   "metadata": {
    "id": "_pDlcXHxDPWq"
   },
   "source": [
    "### **5.4 Perform bivariate analysis**"
   ]
  },
  {
   "cell_type": "markdown",
   "metadata": {
    "id": "F0UT1kLHDPWq"
   },
   "source": [
    "#### **5.4.1** Target likelihood analysis for categorical variables.\n",
    "Investigate the relationships between categorical features and the target variable by analysing the target event likelihood (for the `'Y'` event) for each level of every relevant categorical feature. Through this analysis, identify categorical features that do not contribute much in explaining the variation in the target variable."
   ]
  },
  {
   "cell_type": "code",
   "execution_count": 59,
   "metadata": {
    "id": "XMe7hHDcDPWr"
   },
   "outputs": [],
   "source": [
    "# Write a function to calculate and analyse the target variable likelihood for categorical features\n"
   ]
  },
  {
   "cell_type": "markdown",
   "metadata": {
    "id": "gCNILHjCDPWr"
   },
   "source": [
    "#### **5.4.2** Explore the relationships between numerical features and the target variable to understand their impact on the target outcome. Utilise appropriate visualisation techniques to identify trends and potential interactions."
   ]
  },
  {
   "cell_type": "code",
   "execution_count": 60,
   "metadata": {
    "id": "NhQl8TJ9DPWr"
   },
   "outputs": [],
   "source": [
    "# Visualise the relationship between numerical features and the target variable to understand their impact on the target outcome\n"
   ]
  },
  {
   "cell_type": "markdown",
   "metadata": {
    "id": "TVb5a63HDPWr"
   },
   "source": [
    "## **6. Feature Engineering** <font color = red>[25 marks]</font>"
   ]
  },
  {
   "cell_type": "markdown",
   "metadata": {
    "id": "F1-lpq1iDPWs"
   },
   "source": [
    "### **6.1 Perform resampling** <font color=\"red\">[3 Marks]</font>"
   ]
  },
  {
   "cell_type": "markdown",
   "metadata": {
    "id": "vV6fEzAADPWs"
   },
   "source": [
    "Handle class imbalance in the training data by applying resampling technique.\n",
    "\n",
    "Use the **RandomOverSampler** technique to balance the data and handle class imbalance. This method increases the number of samples in the minority class by randomly duplicating them, creating synthetic data points with similar characteristics. This helps prevent the model from being biased toward the majority class and improves its ability to predict the minority class more accurately.\n",
    "\n",
    "**Note:** You can try other resampling techniques to handle class imbalance"
   ]
  },
  {
   "cell_type": "code",
   "execution_count": 61,
   "metadata": {
    "id": "ijz0X5bGDPWs"
   },
   "outputs": [],
   "source": [
    "# Import RandomOverSampler from imblearn library\n",
    "from imblearn.over_sampling import RandomOverSampler\n",
    "\n",
    "# Perform resampling on training data\n"
   ]
  },
  {
   "cell_type": "markdown",
   "metadata": {
    "id": "IQ7nY4SLDPWs"
   },
   "source": [
    "### **6.2 Feature Creation** <font color=\"red\">[4 marks]</font>"
   ]
  },
  {
   "cell_type": "markdown",
   "metadata": {
    "id": "PdDUn_sVDPWs"
   },
   "source": [
    "Create new features from existing ones to enhance the model's ability to capture patterns in the data. This may involve deriving features from date/time columns, combining features, or creating interaction terms."
   ]
  },
  {
   "cell_type": "code",
   "execution_count": 62,
   "metadata": {
    "id": "beiDdjl7DPWs"
   },
   "outputs": [],
   "source": [
    "# Create new features based on your understanding for both training and validation data\n"
   ]
  },
  {
   "cell_type": "markdown",
   "metadata": {
    "id": "NbQ6FhLUDPWt"
   },
   "source": [
    "### **6.3 Handle redundant columns** <font color=\"red\">[3 marks]</font>"
   ]
  },
  {
   "cell_type": "markdown",
   "metadata": {
    "id": "zs_uzd9VDPWt"
   },
   "source": [
    "Analyse the data to identify features that may be redundant or contribute minimal information toward predicting the target variable and drop them.\n",
    "\n",
    "- You can consider features that exhibit high correlation with other variables, which you may have observed during the EDA phase.\n",
    "- Features that don't strongly influence the prediction, which you may have observed during the EDA phase.\n",
    "- Categorical columns with low value counts for some levels can be remapped to reduce number of unique levels, and features with very high counts for just one level may be removed, as they resemble unique identifier columns and do not provide substantial predictive value.\n",
    "- Additionally, eliminate any columns from which the necessary features have already been extracted in the preceding step."
   ]
  },
  {
   "cell_type": "code",
   "execution_count": 63,
   "metadata": {
    "id": "9Fy0Rw1BDPWt"
   },
   "outputs": [],
   "source": [
    "# Drop redundant columns from training and validation data\n"
   ]
  },
  {
   "cell_type": "code",
   "execution_count": 64,
   "metadata": {
    "id": "RVYVBV27DPWt"
   },
   "outputs": [],
   "source": [
    "# Check the data\n"
   ]
  },
  {
   "cell_type": "markdown",
   "metadata": {
    "id": "SxA7dZ0UDPWt"
   },
   "source": [
    "### **6.4 Combine values in Categorical Columns** <font color=\"red\">[6 Marks]</font>\n",
    "During the EDA process, categorical columns with multiple unique values may be identified. To enhance model performance, it is essential to refine these categorical features by grouping values that have low frequency or provide limited predictive information.\n",
    "\n",
    "Combine categories that occur infrequently or exhibit similar behavior to reduce sparsity and improve model generalisation."
   ]
  },
  {
   "cell_type": "code",
   "execution_count": 65,
   "metadata": {
    "id": "-OF7Y35dDPWt"
   },
   "outputs": [],
   "source": [
    "# Combine categories that have low frequency or provide limited predictive information\n"
   ]
  },
  {
   "cell_type": "markdown",
   "metadata": {
    "id": "C2vnyJqYDPWt"
   },
   "source": [
    "### **6.5 Dummy variable creation** <font color=\"red\">[6 Marks]</font>\n",
    "Transform categorical variables into numerical representations using dummy variables. Ensure consistent encoding between training and validation data."
   ]
  },
  {
   "cell_type": "markdown",
   "metadata": {
    "id": "pQHnbRB_DPWt"
   },
   "source": [
    "#### **6.5.1** Identify categorical columns for dummy variable creation <font color=\"red\">[1 Mark]</font>"
   ]
  },
  {
   "cell_type": "code",
   "execution_count": 66,
   "metadata": {
    "id": "YCR73H4VDPWt"
   },
   "outputs": [],
   "source": [
    "# Identify the categorical columns for creating dummy variables\n"
   ]
  },
  {
   "cell_type": "markdown",
   "metadata": {
    "id": "ZcCgF0lsDPWu"
   },
   "source": [
    "#### **6.5.2** Create dummy variables for categorical columns in training data <font color=\"red\">[2 Marks]</font>"
   ]
  },
  {
   "cell_type": "code",
   "execution_count": 67,
   "metadata": {
    "id": "JA8seldpDPWu"
   },
   "outputs": [],
   "source": [
    "# Create dummy variables using the 'get_dummies' for categorical columns in training data\n"
   ]
  },
  {
   "cell_type": "markdown",
   "metadata": {
    "id": "cbLlOiYcDPWu"
   },
   "source": [
    "#### **6.5.3** Create dummy variables for categorical columns in validation data <font color=\"red\">[2 Marks]</font>"
   ]
  },
  {
   "cell_type": "code",
   "execution_count": 68,
   "metadata": {
    "id": "zvQ4n9yaDPWu"
   },
   "outputs": [],
   "source": [
    "# Create dummy variables using the 'get_dummies' for categorical columns in validation data\n"
   ]
  },
  {
   "cell_type": "markdown",
   "metadata": {
    "id": "tg5crIDKDPWu"
   },
   "source": [
    "#### **6.5.4** Create dummy variable for dependent feature in training and validation data <font color = \"red\">[1 Mark]</font>"
   ]
  },
  {
   "cell_type": "code",
   "execution_count": 69,
   "metadata": {
    "id": "LyreaJQXDPWu"
   },
   "outputs": [],
   "source": [
    "# Create dummy variable for dependent feature in training data\n",
    "\n",
    "# Create dummy variable for dependent feature in validation data\n"
   ]
  },
  {
   "cell_type": "markdown",
   "metadata": {
    "id": "USXyE8QSDPWu"
   },
   "source": [
    "### **6.6 Feature scaling** <font color = red>[3 marks]</font>\n",
    "Scale numerical features to a common range to prevent features with larger values from dominating the model.  Choose a scaling method appropriate for the data and the chosen model. Apply the same scaling to both training and validation data."
   ]
  },
  {
   "cell_type": "code",
   "execution_count": 70,
   "metadata": {
    "id": "VfE4LXqXDPWu"
   },
   "outputs": [],
   "source": [
    "# Import the necessary scaling tool from scikit-learn\n",
    "\n",
    "# Scale the numeric features present in the training data\n",
    "\n",
    "# Scale the numeric features present in the validation data\n"
   ]
  },
  {
   "cell_type": "markdown",
   "metadata": {
    "id": "pqIhEkpxDPWu"
   },
   "source": [
    "## **7. Model Building** <font color = red>[50 marks]</font>"
   ]
  },
  {
   "cell_type": "markdown",
   "metadata": {
    "id": "i2OLtpZWUmgS"
   },
   "source": [
    "In this task, you will be building two machine learning models: Logistic Regression and Random Forest. Each model will go through a structured process to ensure optimal performance. The key steps for each model are outlined below:\n",
    "\n",
    "**Logistic Regression Model**\n",
    "- Feature Selection using RFECV – Identify the most relevant features using Recursive Feature Elimination with Cross-Validation.\n",
    "- Model Building and Multicollinearity Assessment – Build the logistic regression model and analyse statistical aspects such as p-values and VIFs to detect multicollinearity.\n",
    "- Model Training and Evaluation on Training Data – Fit the model on the training data and assess initial performance.\n",
    "- Finding the Optimal Cutoff – Determine the best probability threshold by analysing the sensitivity-specificity tradeoff and precision-recall tradeoff.\n",
    "- FInal Prediction and Evaluation on Training Data using the Optimal Cutoff – Generate final predictions using the selected cutoff and evaluate model performance.\n",
    "\n",
    "**Random Forest Model**\n",
    "- Get Feature Importances - Obtain the importance scores for each feature and select the important features to train the model.\n",
    "- Model Evaluation on Training Data – Assess performance metrics on the training data.\n",
    "- Check Model Overfitting using Cross-Validation – Evaluate generalisation by performing cross-validation.\n",
    "- Hyperparameter Tuning using Grid Search – Optimise model performance by fine-tuning hyperparameters.\n",
    "- Final Model and Evaluation on Training Data – Train the final model using the best parameters and assess its performance."
   ]
  },
  {
   "cell_type": "markdown",
   "metadata": {
    "id": "DwQl23_eDPWx"
   },
   "source": [
    "### **7.1 Feature selection** <font color = red>[4 marks]</font>\n",
    "Identify and select the most relevant features for building a logistic regression model using Recursive Feature Elimination with Cross-Validation (RFECV)."
   ]
  },
  {
   "cell_type": "markdown",
   "metadata": {
    "id": "x7oRIQMhDPWy"
   },
   "source": [
    "#### **7.1.1** Import necessary libraries <font color=\"red\">[1 Mark]</font>"
   ]
  },
  {
   "cell_type": "code",
   "execution_count": 71,
   "metadata": {
    "id": "RzQF3EyIDPWy"
   },
   "outputs": [],
   "source": [
    "# Import necessary libraries\n"
   ]
  },
  {
   "cell_type": "markdown",
   "metadata": {
    "id": "j1sHmcZKDPWy"
   },
   "source": [
    "#### **7.1.2** Perform feature selection <font color=\"red\">[2 Mark]</font>"
   ]
  },
  {
   "cell_type": "code",
   "execution_count": 72,
   "metadata": {
    "id": "NKRnzy8sDPWy"
   },
   "outputs": [],
   "source": [
    "# Apply RFECV to identify the most relevant features\n"
   ]
  },
  {
   "cell_type": "code",
   "execution_count": 73,
   "metadata": {
    "id": "1I0kn-9qDPWy"
   },
   "outputs": [],
   "source": [
    "# Display the features ranking by RFECV in a DataFrame\n"
   ]
  },
  {
   "cell_type": "markdown",
   "metadata": {
    "id": "KKdXnylEDPWz"
   },
   "source": [
    "#### **7.1.2** Retain the selected features <font color=\"red\">[1 Mark]</font>"
   ]
  },
  {
   "cell_type": "code",
   "execution_count": 74,
   "metadata": {
    "id": "Q8TkAe72DPWz"
   },
   "outputs": [],
   "source": [
    "# Put columns selected by RFECV into variable 'col'\n"
   ]
  },
  {
   "cell_type": "markdown",
   "metadata": {
    "id": "J8zNEaKcDPWz"
   },
   "source": [
    "### **7.2 Build Logistic Regression Model** <font color = red>[12 marks]</font>\n",
    "After selecting the optimal features using RFECV, utilise these features to build a logistic regression model with Statsmodels. This approach enables a detailed statistical analysis of the model, including the assessment of p-values and Variance Inflation Factors (VIFs). Evaluating these metrics is crucial for detecting multicollinearity and ensuring that the selected predictors are not highly correlated."
   ]
  },
  {
   "cell_type": "markdown",
   "metadata": {
    "id": "xXwl9DO3DPWz"
   },
   "source": [
    "#### **7.2.1** Select relevant features and add constant in training data <font color=\"red\">[1 Mark]</font>"
   ]
  },
  {
   "cell_type": "code",
   "execution_count": 75,
   "metadata": {
    "id": "kF5g0yScDPWz"
   },
   "outputs": [],
   "source": [
    "# Select only the columns selected by RFECV\n"
   ]
  },
  {
   "cell_type": "code",
   "execution_count": 76,
   "metadata": {
    "id": "aBzSiNhrDPWz"
   },
   "outputs": [],
   "source": [
    "# Import statsmodels and add constant\n",
    "\n",
    "# Check the data\n"
   ]
  },
  {
   "cell_type": "markdown",
   "metadata": {
    "id": "jc9wYqe8DPW0"
   },
   "source": [
    "#### **7.2.2** Fit logistic regression model <font color=\"red\">[2 Marks]</font>"
   ]
  },
  {
   "cell_type": "code",
   "execution_count": 77,
   "metadata": {
    "id": "2VTpvsZsDPW0"
   },
   "outputs": [],
   "source": [
    "# Fit a logistic Regression model on X_train after adding a constant and output the summary\n"
   ]
  },
  {
   "cell_type": "markdown",
   "metadata": {
    "id": "XBd9hyWgDPW0"
   },
   "source": [
    "**Model Interpretation**\n",
    "\n",
    "The output summary table will provide the features used for building model along with coefficient of each of the feature and their p-value. The p-value in a logistic regression model is used to assess the statistical significance of each coefficient. Lesser the p-value, more significant the feature is in the model.\n",
    "\n",
    "A positive coefficient will indicate that an increase in the value of feature would increase the odds of the event occurring. On the other hand, a negative coefficient means the opposite, i.e, an increase in the value of feature would decrease the odds of the event occurring."
   ]
  },
  {
   "cell_type": "markdown",
   "metadata": {
    "id": "VnhgDNCNDPW0"
   },
   "source": [
    "Now check VIFs for presence of multicollinearity in the model."
   ]
  },
  {
   "cell_type": "markdown",
   "metadata": {
    "id": "xLTRjCqCDPW0"
   },
   "source": [
    "#### **7.2.3** Evaluate VIF of features to assess multicollinearity <font color=\"red\">[2 Marks]</font>"
   ]
  },
  {
   "cell_type": "code",
   "execution_count": 78,
   "metadata": {
    "id": "MOIppRgGDPW0"
   },
   "outputs": [],
   "source": [
    "# Import 'variance_inflation_factor'\n",
    "from statsmodels.stats.outliers_influence import variance_inflation_factor"
   ]
  },
  {
   "cell_type": "code",
   "execution_count": 79,
   "metadata": {
    "id": "Xwb2dA9XDPW0"
   },
   "outputs": [],
   "source": [
    "# Make a VIF DataFrame for all the variables present\n"
   ]
  },
  {
   "cell_type": "markdown",
   "metadata": {
    "id": "2RMrfSNPDPW1"
   },
   "source": [
    "Proceed to the next step if p-values and VIFs are within acceptable ranges. If you observe high p-values or VIFs, drop the features and retrain the model. <font color=\"red\">[THIS IS OPTIONAL]</font>"
   ]
  },
  {
   "cell_type": "markdown",
   "metadata": {
    "id": "68j2g6bRDPW1"
   },
   "source": [
    "#### **7.2.4** Make predictions on training data <font color = \"red\">[1 Mark]</font>"
   ]
  },
  {
   "cell_type": "code",
   "execution_count": 80,
   "metadata": {
    "id": "5DT1M3O9DPW1"
   },
   "outputs": [],
   "source": [
    "# Predict the probabilities on the training data\n",
    "\n",
    "# Reshape it into an array\n"
   ]
  },
  {
   "cell_type": "markdown",
   "metadata": {
    "id": "_j4gJDUzDPW1"
   },
   "source": [
    "#### **7.2.5** Create a DataFrame that includes actual fraud reported flags, predicted probabilities, and a column indicating predicted classifications based on a cutoff value of 0.5 <font color=\"red\">[1 Mark]</font>\n",
    "\n"
   ]
  },
  {
   "cell_type": "code",
   "execution_count": 81,
   "metadata": {
    "id": "nDaW7LS_DPW1"
   },
   "outputs": [],
   "source": [
    "# Create a new DataFrame containing the actual fraud reported flag and the probabilities predicted by the model\n",
    "\n",
    "# Create new column indicating predicted classifications based on a cutoff value of 0.5\n"
   ]
  },
  {
   "cell_type": "markdown",
   "metadata": {
    "id": "6rXpNOgtDPW1"
   },
   "source": [
    "**Model performance evaluation**\n",
    "\n",
    "Evaluate the performance of the model based on predictions made on the training data."
   ]
  },
  {
   "cell_type": "markdown",
   "metadata": {
    "id": "cornkRdjDPW2"
   },
   "source": [
    "#### **7.2.6** Check the accuracy of the model <font color = \"red\">[1 Mark]</font>"
   ]
  },
  {
   "cell_type": "code",
   "execution_count": 82,
   "metadata": {
    "id": "w0tyT2xgDPW2"
   },
   "outputs": [],
   "source": [
    "# Import metrics from sklearn for evaluation\n",
    "from sklearn import metrics\n",
    "\n",
    "# Check the accuracy of the model\n"
   ]
  },
  {
   "cell_type": "markdown",
   "metadata": {
    "id": "mQPieExsDPW2"
   },
   "source": [
    "#### **7.2.7** Create a confusion matrix based on the predictions made on the training data <font color=\"red\">[1 Mark]</font>"
   ]
  },
  {
   "cell_type": "code",
   "execution_count": 83,
   "metadata": {
    "id": "1v1XZbNkDPW2"
   },
   "outputs": [],
   "source": [
    "# Create confusion matrix\n"
   ]
  },
  {
   "cell_type": "markdown",
   "metadata": {
    "id": "CVWR_SjqKPQF"
   },
   "source": [
    "#### **7.2.8** Create variables for true positive, true negative, false positive and false negative <font color=\"red\">[1 Mark]</font>"
   ]
  },
  {
   "cell_type": "code",
   "execution_count": 84,
   "metadata": {
    "id": "JaXLtV-HKPgY"
   },
   "outputs": [],
   "source": [
    "# Create variables for true positive, true negative, false positive and false negative\n"
   ]
  },
  {
   "cell_type": "markdown",
   "metadata": {
    "id": "UkO5we1NDPW3"
   },
   "source": [
    "#### **7.2.9** Calculate sensitivity, specificity, precision, recall and F1-score <font color=\"red\">[2 Marks]</font>"
   ]
  },
  {
   "cell_type": "code",
   "execution_count": 85,
   "metadata": {
    "id": "K5GpJK5CDPW3"
   },
   "outputs": [],
   "source": [
    "# Calculate the sensitivity\n",
    "\n",
    "\n",
    "# Calculate the specificity\n",
    "\n",
    "\n",
    "# Calculate Precision\n",
    "\n",
    "\n",
    "# Calculate Recall\n",
    "\n",
    "\n",
    "# Calculate F1 Score\n"
   ]
  },
  {
   "cell_type": "markdown",
   "metadata": {
    "id": "gIFdLeULDPW4"
   },
   "source": [
    "### **7.3 Find the Optimal Cutoff** <font color = red>[12 marks]</font>\n",
    "Find the optimal cutoff to improve model performance by evaluating various cutoff values and their impact on relevant metrics."
   ]
  },
  {
   "cell_type": "markdown",
   "metadata": {
    "id": "-un_98BlDPW4"
   },
   "source": [
    "#### **7.3.1** Plot ROC Curve  to visualise the trade-off between true positive rate and false positive rate across different classification thresholds <font color=\"red\">[2 Marks]</font>"
   ]
  },
  {
   "cell_type": "code",
   "execution_count": 86,
   "metadata": {
    "id": "SfRY65pZDPW5"
   },
   "outputs": [],
   "source": [
    "# Import libraries or function to plot the ROC curve\n",
    "\n",
    "\n",
    "# Define ROC function\n"
   ]
  },
  {
   "cell_type": "code",
   "execution_count": 87,
   "metadata": {
    "id": "nGlAWkJDDPW6"
   },
   "outputs": [],
   "source": [
    "# Call the ROC function\n"
   ]
  },
  {
   "cell_type": "markdown",
   "metadata": {
    "id": "cFPV1EBDDPW6"
   },
   "source": [
    "**Sensitivity and Specificity tradeoff**\n",
    "\n",
    "After analysing the area under the curve of the ROC, check the sensitivity and specificity tradeoff to find the optimal cutoff point."
   ]
  },
  {
   "cell_type": "markdown",
   "metadata": {
    "id": "vjcQP2BzDPW6"
   },
   "source": [
    "#### **7.3.2** Predict on training data at various probability cutoffs <font color=\"red\">[1 Mark]</font>"
   ]
  },
  {
   "cell_type": "code",
   "execution_count": 88,
   "metadata": {
    "id": "t1UMUMNODPW6"
   },
   "outputs": [],
   "source": [
    "# Create columns with different probability cutoffs to explore the impact of cutoff on model performance\n"
   ]
  },
  {
   "cell_type": "markdown",
   "metadata": {
    "id": "0EFEKx21DPW6"
   },
   "source": [
    "#### **7.3.3** Plot accuracy, sensitivity, specificity at different values of probability cutoffs <font color=\"red\">[2 Marks]</font>"
   ]
  },
  {
   "cell_type": "code",
   "execution_count": 89,
   "metadata": {
    "id": "OsjuXoXtDPW6"
   },
   "outputs": [],
   "source": [
    "# Create a DataFrame to see the values of accuracy, sensitivity, and specificity at different values of probability cutoffs\n"
   ]
  },
  {
   "cell_type": "code",
   "execution_count": 90,
   "metadata": {
    "id": "z4og5facDPW7"
   },
   "outputs": [],
   "source": [
    "# Plot accuracy, sensitivity, and specificity at different values of probability cutoffs\n"
   ]
  },
  {
   "cell_type": "markdown",
   "metadata": {
    "id": "o6C-ScQ1DPW7"
   },
   "source": [
    "#### **7.3.4** Create a column for final prediction based on optimal cutoff <font color=\"red\">[1 Mark]</font>"
   ]
  },
  {
   "cell_type": "code",
   "execution_count": 91,
   "metadata": {
    "id": "1p-z0A9wDPW7"
   },
   "outputs": [],
   "source": [
    "# Create a column for final prediction based on the optimal cutoff\n"
   ]
  },
  {
   "cell_type": "markdown",
   "metadata": {
    "id": "8jEQC7QlDPW7"
   },
   "source": [
    "#### **7.3.5** Calculate the accuracy <font color=\"red\">[1 Mark]</font>"
   ]
  },
  {
   "cell_type": "code",
   "execution_count": 92,
   "metadata": {
    "id": "-XARhijiDPW7"
   },
   "outputs": [],
   "source": [
    "# Check the accuracy now\n"
   ]
  },
  {
   "cell_type": "markdown",
   "metadata": {
    "id": "qsgvpYa3DPW-"
   },
   "source": [
    "#### **7.3.6** Create confusion matrix <font color=\"red\">[1 Mark]</font>"
   ]
  },
  {
   "cell_type": "code",
   "execution_count": 93,
   "metadata": {
    "id": "tuRtey6YDPW-"
   },
   "outputs": [],
   "source": [
    "# Create the confusion matrix once again\n"
   ]
  },
  {
   "cell_type": "markdown",
   "metadata": {
    "id": "Nbfa0CsbDPW-"
   },
   "source": [
    "#### **7.3.7** Create variables for true positive, true negative, false positive and false negative <font color=\"red\">[1 Mark]</font>"
   ]
  },
  {
   "cell_type": "code",
   "execution_count": 94,
   "metadata": {
    "id": "xAQncHXtDPW_"
   },
   "outputs": [],
   "source": [
    "# Create variables for true positive, true negative, false positive and false negative\n"
   ]
  },
  {
   "cell_type": "markdown",
   "metadata": {
    "id": "z7KXFHRnDPW_"
   },
   "source": [
    "#### **7.3.8** Calculate sensitivity, specificity, precision, recall and F1-score of the model <font color=\"red\">[2 Mark]</font>"
   ]
  },
  {
   "cell_type": "code",
   "execution_count": 95,
   "metadata": {
    "id": "958ly8K8DPW_"
   },
   "outputs": [],
   "source": [
    "# Calculate the sensitivity\n",
    "\n",
    "\n",
    "# Calculate the specificity\n",
    "\n",
    "\n",
    "# Calculate Precision\n",
    "\n",
    "\n",
    "# Calculate Recall\n",
    "\n",
    "\n",
    "# Calculate F1 Score\n"
   ]
  },
  {
   "cell_type": "markdown",
   "metadata": {
    "id": "_dNjDGtNDPXA"
   },
   "source": [
    "**Precision and Recall tradeoff**\n",
    "\n",
    "Check optimal cutoff value by plotting precision-recall curve, and adjust the cutoff based on precision and recall tradeoff if required."
   ]
  },
  {
   "cell_type": "code",
   "execution_count": 96,
   "metadata": {
    "id": "HGKKbLQgDPXA"
   },
   "outputs": [],
   "source": [
    "# Import precision-recall curve function\n",
    "from sklearn.metrics import precision_recall_curve"
   ]
  },
  {
   "cell_type": "markdown",
   "metadata": {
    "id": "G4_-ZTXYDPXB"
   },
   "source": [
    "#### **7.3.9** Plot precision-recall curve <font color=\"red\">[1 Mark]</font>"
   ]
  },
  {
   "cell_type": "code",
   "execution_count": 97,
   "metadata": {
    "id": "Wj2qr5FSDPXB"
   },
   "outputs": [],
   "source": [
    "# Plot precision-recall curve\n"
   ]
  },
  {
   "cell_type": "markdown",
   "metadata": {
    "id": "VdNY3cNPDPXB"
   },
   "source": [
    "### **7.4 Build Random Forest Model** <font color = red>[12 marks]</font>\n",
    "Now that you have built a logistic regression model, let's move on to building a random forest model."
   ]
  },
  {
   "cell_type": "markdown",
   "metadata": {
    "id": "sS2Hc10fDPXC"
   },
   "source": [
    "#### **7.4.1** Import necessary libraries"
   ]
  },
  {
   "cell_type": "code",
   "execution_count": 98,
   "metadata": {
    "id": "S6duSoHlDPXC"
   },
   "outputs": [],
   "source": [
    "# Import necessary libraries\n",
    "from sklearn.ensemble import RandomForestClassifier\n",
    "from sklearn.metrics import classification_report\n",
    "from sklearn.model_selection import cross_val_score, GridSearchCV"
   ]
  },
  {
   "cell_type": "markdown",
   "metadata": {
    "id": "7Euc5ukLDPXC"
   },
   "source": [
    "#### **7.4.2** Build the random forest model <font color=\"red\">[1 Mark]</font>"
   ]
  },
  {
   "cell_type": "code",
   "execution_count": 99,
   "metadata": {
    "id": "3ouCc_YFDPXC"
   },
   "outputs": [],
   "source": [
    "# Build a base random forest model\n"
   ]
  },
  {
   "cell_type": "markdown",
   "metadata": {
    "id": "wr3ExsTgUSKl"
   },
   "source": [
    "#### **7.4.3** Get feature importance scores and select important features <font color=\"red\">[2 Marks]</font>"
   ]
  },
  {
   "cell_type": "code",
   "execution_count": 100,
   "metadata": {
    "collapsed": true,
    "id": "eSnQ3xQL__gV"
   },
   "outputs": [],
   "source": [
    "# Get feature importance scores from the trained model\n",
    "\n",
    "# Create a DataFrame to visualise the importance scores\n"
   ]
  },
  {
   "cell_type": "code",
   "execution_count": 101,
   "metadata": {
    "id": "yQIR2yUqxNVI"
   },
   "outputs": [],
   "source": [
    "# Select features with high importance scores\n",
    "\n",
    "# Create a new training data with only the selected features\n"
   ]
  },
  {
   "cell_type": "markdown",
   "metadata": {
    "id": "wTzZ1YnhU9Dt"
   },
   "source": [
    "#### **7.4.4** Train the model with selected features <font color=\"red\">[1 Mark]</font>"
   ]
  },
  {
   "cell_type": "code",
   "execution_count": 102,
   "metadata": {
    "id": "IeU6JcgJUnPs"
   },
   "outputs": [],
   "source": [
    "# Fit the model on the training data with selected features\n"
   ]
  },
  {
   "cell_type": "markdown",
   "metadata": {
    "id": "g_5Fk-9bDPXG"
   },
   "source": [
    "#### **7.4.5** Generate predictions on the training data <font color=\"red\">[1 Mark]</font>"
   ]
  },
  {
   "cell_type": "code",
   "execution_count": 103,
   "metadata": {
    "id": "TO6AGoPFDPXG"
   },
   "outputs": [],
   "source": [
    "# Generate predictions on training data\n"
   ]
  },
  {
   "cell_type": "markdown",
   "metadata": {
    "id": "I5ApUsKlDPXH"
   },
   "source": [
    "#### **7.4.6** Check accuracy of the model <font color=\"red\">[1 Mark]</font>"
   ]
  },
  {
   "cell_type": "code",
   "execution_count": 104,
   "metadata": {
    "id": "t2zmn36dDPXH"
   },
   "outputs": [],
   "source": [
    "# Check accuracy of the model\n"
   ]
  },
  {
   "cell_type": "markdown",
   "metadata": {
    "id": "Z_e5FElrDPXH"
   },
   "source": [
    "#### **7.4.7** Create confusion matrix <font color=\"red\">[1 Mark]</font>"
   ]
  },
  {
   "cell_type": "code",
   "execution_count": 105,
   "metadata": {
    "id": "NJIGPNTaDPXI"
   },
   "outputs": [],
   "source": [
    "# Create the confusion matrix to visualise the performance\n"
   ]
  },
  {
   "cell_type": "markdown",
   "metadata": {
    "id": "rY3mFM8CDPXI"
   },
   "source": [
    "#### **7.4.8** Create variables for true positive, true negative, false positive and false negative <font color=\"red\">[1 Mark]</font>"
   ]
  },
  {
   "cell_type": "code",
   "execution_count": 106,
   "metadata": {
    "id": "l9Ehc0vcDPXI"
   },
   "outputs": [],
   "source": [
    "# Create variables for true positive, true negative, false positive and false negative\n"
   ]
  },
  {
   "cell_type": "markdown",
   "metadata": {
    "id": "_NSOsFxRDPXJ"
   },
   "source": [
    "#### **7.4.9** Calculate sensitivity, specificity, precision, recall and F1-score of the model <font color=\"red\">[2 Marks]</font>"
   ]
  },
  {
   "cell_type": "code",
   "execution_count": 107,
   "metadata": {
    "id": "M3wJsKu3DPXJ"
   },
   "outputs": [],
   "source": [
    "# Calculate the sensitivity\n",
    "\n",
    "\n",
    "# Calculate the specificity\n",
    "\n",
    "\n",
    "# Calculate Precision\n",
    "\n",
    "\n",
    "# Calculate Recall\n",
    "\n",
    "\n",
    "# Calculate F1 Score\n"
   ]
  },
  {
   "cell_type": "markdown",
   "metadata": {
    "id": "b6Jax54VDPXJ"
   },
   "source": [
    "#### **7.4.10** Check if the model is overfitting training data using cross validation <font color = \"red\">[2 marks]</font>"
   ]
  },
  {
   "cell_type": "code",
   "execution_count": 108,
   "metadata": {
    "id": "42-huob6DPXJ"
   },
   "outputs": [],
   "source": [
    "# Use cross validation to check if the model is overfitting\n"
   ]
  },
  {
   "cell_type": "markdown",
   "metadata": {
    "id": "sNxYrAKZDPXJ"
   },
   "source": [
    "### **7.5 Hyperparameter Tuning** <font color = red>[10 Marks]</font>\n",
    " Enhance the performance of the random forest model by systematically exploring and selecting optimal hyperparameter values using grid search."
   ]
  },
  {
   "cell_type": "markdown",
   "metadata": {
    "id": "UnBcYjbQDPXK"
   },
   "source": [
    "#### **7.5.1** Use grid search to find the best hyperparameter values <font color = red>[2 Marks]</font>"
   ]
  },
  {
   "cell_type": "code",
   "execution_count": 109,
   "metadata": {
    "id": "LTLCDfb4DPXK"
   },
   "outputs": [],
   "source": [
    "# Use grid search to find the best hyperparamter values\n",
    "\n",
    "# Best Hyperparameters\n"
   ]
  },
  {
   "cell_type": "markdown",
   "metadata": {
    "id": "vrGoY46TDPXK"
   },
   "source": [
    "#### **7.5.2** Build a random forest model based on hyperparameter tuning results <font color = red>[1 Mark]</font>"
   ]
  },
  {
   "cell_type": "code",
   "execution_count": 110,
   "metadata": {
    "id": "2yxPaaDxDPXK"
   },
   "outputs": [],
   "source": [
    "# Building random forest model based on results of hyperparameter tuning\n"
   ]
  },
  {
   "cell_type": "markdown",
   "metadata": {
    "id": "IJ4gQ2m0DPXK"
   },
   "source": [
    "#### **7.5.3** Make predictions on training data <font color = red>[1 Mark]</font>"
   ]
  },
  {
   "cell_type": "code",
   "execution_count": 111,
   "metadata": {
    "id": "hTE3p2rCDPXL"
   },
   "outputs": [],
   "source": [
    "# Make predictions on training data\n"
   ]
  },
  {
   "cell_type": "markdown",
   "metadata": {
    "id": "fbfSJpEuDPXL"
   },
   "source": [
    "#### **7.5.4** Check accuracy of Random Forest Model <font color = red>[1 Mark]</font>"
   ]
  },
  {
   "cell_type": "code",
   "execution_count": 112,
   "metadata": {
    "id": "ItpV-JYkDPXL"
   },
   "outputs": [],
   "source": [
    "# Check the accuracy\n"
   ]
  },
  {
   "cell_type": "markdown",
   "metadata": {
    "id": "l-t6Hme3DPXL"
   },
   "source": [
    "#### **7.5.5** Create confusion matrix <font color = red>[1 Mark]</font>"
   ]
  },
  {
   "cell_type": "code",
   "execution_count": 113,
   "metadata": {
    "id": "MdteUZXzDPXL"
   },
   "outputs": [],
   "source": [
    "# Create the confusion matrix\n"
   ]
  },
  {
   "cell_type": "markdown",
   "metadata": {
    "id": "jEUtsRafDPXL"
   },
   "source": [
    "#### **7.5.6** Create variables for true positive, true negative, false positive and false negative <font color = red>[1 Mark]</font>"
   ]
  },
  {
   "cell_type": "code",
   "execution_count": 114,
   "metadata": {
    "id": "0aeUhFSWDPXM"
   },
   "outputs": [],
   "source": [
    "# Create variables for true positive, true negative, false positive and false negative\n"
   ]
  },
  {
   "cell_type": "markdown",
   "metadata": {
    "id": "nwDnBdjnDPXM"
   },
   "source": [
    "#### **7.5.7** Calculate sensitivity, specificity, precision, recall and F1-score of the model <font color = red>[3 Marks]</font>"
   ]
  },
  {
   "cell_type": "code",
   "execution_count": 115,
   "metadata": {
    "id": "KxPHj1NjDPXM"
   },
   "outputs": [],
   "source": [
    "# Calculate the sensitivity\n",
    "\n",
    "\n",
    "# Calculate the specificity\n",
    "\n",
    "\n",
    "# Calculate Precision\n",
    "\n",
    "\n",
    "# Calculate Recall\n",
    "\n",
    "\n",
    "# Calculate F1-Score\n"
   ]
  },
  {
   "cell_type": "markdown",
   "metadata": {
    "id": "yUEvyADyDPXM"
   },
   "source": [
    "## **8. Prediction and Model Evaluation** <font color = red>[20 marks]</font>\n",
    "Use the model from the previous step to make predictions on the validation data with the optimal cutoff. Then evaluate the model's performance using metrics such as accuracy, sensitivity, specificity, precision, and recall."
   ]
  },
  {
   "cell_type": "markdown",
   "metadata": {
    "id": "EQuMB-P1DPXM"
   },
   "source": [
    "### **8.1 Make predictions over validation data using logistic regression model** <font color = red>[10 marks]</font>"
   ]
  },
  {
   "cell_type": "markdown",
   "metadata": {
    "id": "Wuz5v3TYDPXM"
   },
   "source": [
    "#### **8.1.1** Select relevant features for validation data and add constant <font color=\"red\">[1 Mark]</font>"
   ]
  },
  {
   "cell_type": "code",
   "execution_count": 116,
   "metadata": {
    "id": "_AbB-x3aDPXM"
   },
   "outputs": [],
   "source": [
    "# Select the relevant features for validation data\n",
    "\n",
    "# Add constant to X_validation\n"
   ]
  },
  {
   "cell_type": "markdown",
   "metadata": {
    "id": "pzpawlMLDPXM"
   },
   "source": [
    "#### **8.1.2** Make predictions over validation data <font color=\"red\">[1 Mark]</font>"
   ]
  },
  {
   "cell_type": "code",
   "execution_count": 117,
   "metadata": {
    "id": "9CmoAZJODPXM"
   },
   "outputs": [],
   "source": [
    "# Make predictions on the validation data and store it in the variable 'y_validation_pred'\n"
   ]
  },
  {
   "cell_type": "markdown",
   "metadata": {
    "id": "r8qyn8xvDPXM"
   },
   "source": [
    "#### **8.1.3** Create DataFrame with actual values and predicted values for validation data <font color=\"red\">[2 Marks]</font>"
   ]
  },
  {
   "cell_type": "code",
   "execution_count": 118,
   "metadata": {
    "id": "9Zx8RBFVDPXN"
   },
   "outputs": [],
   "source": [
    "#  Create DataFrame with actual values and predicted values for validation data\n"
   ]
  },
  {
   "cell_type": "markdown",
   "metadata": {
    "id": "G_kC6wEPDPXN"
   },
   "source": [
    "#### **8.1.4** Make final prediction based on cutoff value <font color=\"red\">[1 Mark]</font>"
   ]
  },
  {
   "cell_type": "code",
   "execution_count": 119,
   "metadata": {
    "id": "4ge-EC74DPXN"
   },
   "outputs": [],
   "source": [
    "# Make final predictions on the validation data using the optimal cutoff\n"
   ]
  },
  {
   "cell_type": "markdown",
   "metadata": {
    "id": "bt7sm55QDPXN"
   },
   "source": [
    "#### **8.1.5** Check the accuracy of logistic regression model on validation data <font color=\"red\">[1 Mark]</font>"
   ]
  },
  {
   "cell_type": "code",
   "execution_count": 120,
   "metadata": {
    "id": "81tEKwwsDPXN"
   },
   "outputs": [],
   "source": [
    "# Check the accuracy\n"
   ]
  },
  {
   "cell_type": "markdown",
   "metadata": {
    "id": "RE8ZnagdDPXN"
   },
   "source": [
    "#### **8.1.6** Create confusion matrix <font color=\"red\">[1 Mark]</font>"
   ]
  },
  {
   "cell_type": "code",
   "execution_count": 121,
   "metadata": {
    "id": "NjkkexqrDPXN"
   },
   "outputs": [],
   "source": [
    "# Create the confusion matrix\n"
   ]
  },
  {
   "cell_type": "markdown",
   "metadata": {
    "id": "SSqBZOrYDPXN"
   },
   "source": [
    "#### **8.1.7** Create variables for true positive, true negative, false positive and false negative <font color=\"red\">[1 Mark]</font>"
   ]
  },
  {
   "cell_type": "code",
   "execution_count": 122,
   "metadata": {
    "id": "NzH_sFeoDPXN"
   },
   "outputs": [],
   "source": [
    "# Create variables for true positive, true negative, false positive and false negative\n"
   ]
  },
  {
   "cell_type": "markdown",
   "metadata": {
    "id": "_Mkn6DUwDPXN"
   },
   "source": [
    "#### **8.1.8** Calculate sensitivity, specificity, precision, recall and f1 score of the model <font color=\"red\">[2 Marks]</font>"
   ]
  },
  {
   "cell_type": "code",
   "execution_count": 123,
   "metadata": {
    "id": "FCqNW4t3DPXO"
   },
   "outputs": [],
   "source": [
    "# Calculate the sensitivity\n",
    "\n",
    "\n",
    "# Calculate the specificity\n",
    "\n",
    "\n",
    "# Calculate Precision\n",
    "\n",
    "\n",
    "# Calculate Recall\n",
    "\n",
    "\n",
    "# Calculate F1 Score\n"
   ]
  },
  {
   "cell_type": "markdown",
   "metadata": {
    "id": "1wTVm8V_DPXO"
   },
   "source": [
    "### **8.2 Make predictions over validation data using random forest model** <font color = red>[10 marks]</font>"
   ]
  },
  {
   "cell_type": "markdown",
   "metadata": {
    "id": "UDgbDTfIDPXO"
   },
   "source": [
    "#### **8.2.1** Select the important features and make predictions over validation data <font color=\"red\">[2 Marks]</font>"
   ]
  },
  {
   "cell_type": "code",
   "execution_count": 124,
   "metadata": {
    "id": "RhtKprsQDPXO"
   },
   "outputs": [],
   "source": [
    "# Select the relevant features for validation data\n",
    "\n",
    "# Make predictions on the validation data\n"
   ]
  },
  {
   "cell_type": "markdown",
   "metadata": {
    "id": "bUbtP7CADPXO"
   },
   "source": [
    "#### **8.2.2** Check accuracy of random forest model <font color=\"red\">[1 Mark]</font>"
   ]
  },
  {
   "cell_type": "code",
   "execution_count": 125,
   "metadata": {
    "id": "bJyVOpLlDPXO"
   },
   "outputs": [],
   "source": [
    "# Check accuracy\n"
   ]
  },
  {
   "cell_type": "markdown",
   "metadata": {
    "id": "spUa4VBfDPXO"
   },
   "source": [
    "#### **8.2.3** Create confusion matrix <font color=\"red\">[1 Mark]</font>"
   ]
  },
  {
   "cell_type": "code",
   "execution_count": 126,
   "metadata": {
    "id": "eXJVNVrSDPXO"
   },
   "outputs": [],
   "source": [
    "# Create the confusion matrix\n"
   ]
  },
  {
   "cell_type": "markdown",
   "metadata": {
    "id": "HuUdgVYSDPXO"
   },
   "source": [
    "#### **8.2.4** Create variables for true positive, true negative, false positive and false negative <font color=\"red\">[1 Mark]</font>"
   ]
  },
  {
   "cell_type": "code",
   "execution_count": 127,
   "metadata": {
    "id": "UT7lU5CWDPXO"
   },
   "outputs": [],
   "source": [
    "# Create variables for true positive, true negative, false positive and false negative\n"
   ]
  },
  {
   "cell_type": "markdown",
   "metadata": {
    "id": "YAjovvF4DPXO"
   },
   "source": [
    "#### **8.2.5** Calculate sensitivity, specificity, precision, recall and F1-score of the model <font color=\"red\">[5 Marks]</font>"
   ]
  },
  {
   "cell_type": "code",
   "execution_count": 128,
   "metadata": {
    "id": "C1PYzDaWDPXO"
   },
   "outputs": [],
   "source": [
    "# Calculate Sensitivity\n",
    "\n",
    "\n",
    "# Calculate Specificity\n",
    "\n",
    "\n",
    "# Calculate Precision\n",
    "\n",
    "\n",
    "# Calculate Recall\n",
    "\n",
    "\n",
    "# Calculate F1-score\n"
   ]
  },
  {
   "cell_type": "markdown",
   "metadata": {
    "id": "nENAdFWhDPXP"
   },
   "source": [
    "## **Evaluation and Conclusion**\n",
    "Write the conclusion."
   ]
  }
 ],
 "metadata": {
  "colab": {
   "provenance": [
    {
     "file_id": "1SIhxHs7kl3qt0VU3gGAAt_k_NQTvuqmc",
     "timestamp": 1740041215388
    },
    {
     "file_id": "1wef6jk_PrklarfJ5GA9FoyCAiKkArPCw",
     "timestamp": 1739780524071
    }
   ],
   "toc_visible": true
  },
  "kernelspec": {
   "display_name": ".mac_env",
   "language": "python",
   "name": "python3"
  },
  "language_info": {
   "codemirror_mode": {
    "name": "ipython",
    "version": 3
   },
   "file_extension": ".py",
   "mimetype": "text/x-python",
   "name": "python",
   "nbconvert_exporter": "python",
   "pygments_lexer": "ipython3",
   "version": "3.13.3"
  }
 },
 "nbformat": 4,
 "nbformat_minor": 0
}
